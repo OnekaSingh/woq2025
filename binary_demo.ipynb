{
 "cells": [
  {
   "cell_type": "code",
   "execution_count": 1,
   "id": "f7c110b2",
   "metadata": {},
   "outputs": [],
   "source": [
    "%load_ext autoreload\n",
    "%autoreload 2\n",
    "\n",
    "from jordan_wigner import jw_majoranas\n",
    "from qiskit.quantum_info import PauliList\n",
    "from tableau import spread_node, spread_node_slice, anticommutation_matrix\n",
    "import random\n",
    "from cost_functions import average_weight\n",
    "from annealing import anneal\n",
    "import matplotlib.pyplot as plt"
   ]
  },
  {
   "cell_type": "code",
   "execution_count": 4,
   "id": "c4c96aa2",
   "metadata": {},
   "outputs": [
    {
     "name": "stdout",
     "output_type": "stream",
     "text": [
      "['IIIIIIIIIIIIIIIIIIIX', 'IIIIIIIIIIIIIIIIIIXZ', 'IIIIIIIIIIIIIIIIIXZZ',\n",
      " 'IIIIIIIIIIIIIIIIXZZZ', 'IIIIIIIIIIIIIIIXZZZZ', 'IIIIIIIIIIIIIIXZZZZZ',\n",
      " 'IIIIIIIIIIIIIXZZZZZZ', 'IIIIIIIIIIIIXZZZZZZZ', 'IIIIIIIIIIIXZZZZZZZZ',\n",
      " 'IIIIIIIIIIXZZZZZZZZZ', 'IIIIIIIIIXZZZZZZZZZZ', 'IIIIIIIIXZZZZZZZZZZZ',\n",
      " 'IIIIIIIXZZZZZZZZZZZZ', 'IIIIIIXZZZZZZZZZZZZZ', 'IIIIIXZZZZZZZZZZZZZZ',\n",
      " 'IIIIXZZZZZZZZZZZZZZZ', 'IIIXZZZZZZZZZZZZZZZZ', 'IIXZZZZZZZZZZZZZZZZZ',\n",
      " 'IXZZZZZZZZZZZZZZZZZZ', 'XZZZZZZZZZZZZZZZZZZZ', 'IIIIIIIIIIIIIIIIIIIY',\n",
      " 'IIIIIIIIIIIIIIIIIIYZ', 'IIIIIIIIIIIIIIIIIYZZ', 'IIIIIIIIIIIIIIIIYZZZ',\n",
      " 'IIIIIIIIIIIIIIIYZZZZ', 'IIIIIIIIIIIIIIYZZZZZ', 'IIIIIIIIIIIIIYZZZZZZ',\n",
      " 'IIIIIIIIIIIIYZZZZZZZ', 'IIIIIIIIIIIYZZZZZZZZ', 'IIIIIIIIIIYZZZZZZZZZ',\n",
      " 'IIIIIIIIIYZZZZZZZZZZ', 'IIIIIIIIYZZZZZZZZZZZ', 'IIIIIIIYZZZZZZZZZZZZ',\n",
      " 'IIIIIIYZZZZZZZZZZZZZ', 'IIIIIYZZZZZZZZZZZZZZ', 'IIIIYZZZZZZZZZZZZZZZ',\n",
      " 'IIIYZZZZZZZZZZZZZZZZ', 'IIYZZZZZZZZZZZZZZZZZ', 'IYZZZZZZZZZZZZZZZZZZ',\n",
      " 'YZZZZZZZZZZZZZZZZZZZ']\n",
      "Average Weight: 10.5\n"
     ]
    }
   ],
   "source": [
    "N = 20\n",
    "\n",
    "x, z = jw_majoranas(N)\n",
    "\n",
    "paulis = PauliList.from_symplectic(z, x)\n",
    "\n",
    "print(paulis)\n",
    "print(f\"Average Weight: {average_weight(x, z)}\")"
   ]
  },
  {
   "cell_type": "code",
   "execution_count": 6,
   "id": "abd0b1cb",
   "metadata": {},
   "outputs": [
    {
     "name": "stdout",
     "output_type": "stream",
     "text": [
      "T0 = 40\n",
      "['IIIIIIIIIIYZZZZZZZZZ', 'IIIIIIIIIIYZZZZZZZZY', 'IIIIIIIIIIYZZZZZZZYI',\n",
      " 'IIIIIIIIIIYZZZZZZYII', 'IIIIIIIIIIYZZZZZYIII', 'IIIIIIIIIIYZZZZYIIII',\n",
      " 'IIIIIIIIIIYZZZYIIIII', 'IIIIIIIIIIYZZYIIIIII', 'IIIIIIIIIIYZYIIIIIII',\n",
      " 'IIIIIIIIIIYYIIIIIIII', 'IIIIIIIIIIZIIIIIIIII', 'IIIIIIIIIXXIIIIIIIII',\n",
      " 'IIIIIIIIXZXIIIIIIIII', 'YZZZZZZZZZXIIIIIIIII', 'IIIIIIXZZZXIIIIIIIII',\n",
      " 'IIIIIXZZZZXIIIIIIIII', 'IIIIXZZZZZXIIIIIIIII', 'IIIXZZZZZZXIIIIIIIII',\n",
      " 'IIXZZZZZZZXIIIIIIIII', 'IXZZZZZZZZXIIIIIIIII', 'XZZZZZZZZZXIIIIIIIII',\n",
      " 'IIIIIIIIIIYZZZZZZZZX', 'IIIIIIIIIIYZZZZZZZXI', 'IIIIIIIIIIYZZZZZZXII',\n",
      " 'IIIIIIIIIIYZZZZZXIII', 'IIIIIIIIIIYZZZZXIIII', 'IIIIIIIIIIYZZZXIIIII',\n",
      " 'IIIIIIIIIIYZZXIIIIII', 'IIIIIIIIIIYZXIIIIIII', 'IIIIIIIIIIYXIIIIIIII',\n",
      " 'IIIIIIIXZZXIIIIIIIII', 'IIIIIIIIIYXIIIIIIIII', 'IIIIIIIIYZXIIIIIIIII',\n",
      " 'IIIIIIIYZZXIIIIIIIII', 'IIIIIIYZZZXIIIIIIIII', 'IIIIIYZZZZXIIIIIIIII',\n",
      " 'IIIIYZZZZZXIIIIIIIII', 'IIIYZZZZZZXIIIIIIIII', 'IIYZZZZZZZXIIIIIIIII',\n",
      " 'IYZZZZZZZZXIIIIIIIII']\n"
     ]
    },
    {
     "data": {
      "text/plain": [
       "[<matplotlib.lines.Line2D at 0x1f4482f1590>]"
      ]
     },
     "execution_count": 6,
     "metadata": {},
     "output_type": "execute_result"
    },
    {
     "data": {
      "image/png": "[encoded data removed]",
      "text/plain": [
       "<Figure size 640x480 with 1 Axes>"
      ]
     },
     "metadata": {},
     "output_type": "display_data"
    }
   ],
   "source": [
    "x, z, energies, energy_opt = anneal(x, z, explore=spread_node, energy=average_weight, cooling_rate=0.99995)\n",
    "\n",
    "paulis = PauliList.from_symplectic(z, x)\n",
    "\n",
    "print(paulis)\n",
    "\n",
    "plt.plot(energies)"
   ]
  },
  {
   "cell_type": "code",
   "execution_count": 9,
   "id": "7a9b3bed",
   "metadata": {},
   "outputs": [
    {
     "data": {
      "text/plain": [
       "array([[0, 1, 1, 1, 1, 1, 1, 1, 1, 1, 1, 1, 1, 1, 1, 1, 1, 1, 1, 1],\n",
       "       [1, 0, 1, 1, 1, 1, 1, 1, 1, 1, 1, 1, 1, 1, 1, 1, 1, 1, 1, 1],\n",
       "       [1, 1, 0, 1, 1, 1, 1, 1, 1, 1, 1, 1, 1, 1, 1, 1, 1, 1, 1, 1],\n",
       "       [1, 1, 1, 0, 1, 1, 1, 1, 1, 1, 1, 1, 1, 1, 1, 1, 1, 1, 1, 1],\n",
       "       [1, 1, 1, 1, 0, 1, 1, 1, 1, 1, 1, 1, 1, 1, 1, 1, 1, 1, 1, 1],\n",
       "       [1, 1, 1, 1, 1, 0, 1, 1, 1, 1, 1, 1, 1, 1, 1, 1, 1, 1, 1, 1],\n",
       "       [1, 1, 1, 1, 1, 1, 0, 1, 1, 1, 1, 1, 1, 1, 1, 1, 1, 1, 1, 1],\n",
       "       [1, 1, 1, 1, 1, 1, 1, 0, 1, 1, 1, 1, 1, 1, 1, 1, 1, 1, 1, 1],\n",
       "       [1, 1, 1, 1, 1, 1, 1, 1, 0, 1, 1, 1, 1, 1, 1, 1, 1, 1, 1, 1],\n",
       "       [1, 1, 1, 1, 1, 1, 1, 1, 1, 0, 1, 1, 1, 1, 1, 1, 1, 1, 1, 1],\n",
       "       [1, 1, 1, 1, 1, 1, 1, 1, 1, 1, 0, 1, 1, 1, 1, 1, 1, 1, 1, 1],\n",
       "       [1, 1, 1, 1, 1, 1, 1, 1, 1, 1, 1, 0, 1, 1, 1, 1, 1, 1, 1, 1],\n",
       "       [1, 1, 1, 1, 1, 1, 1, 1, 1, 1, 1, 1, 0, 1, 1, 1, 1, 1, 1, 1],\n",
       "       [1, 1, 1, 1, 1, 1, 1, 1, 1, 1, 1, 1, 1, 0, 1, 1, 1, 1, 1, 1],\n",
       "       [1, 1, 1, 1, 1, 1, 1, 1, 1, 1, 1, 1, 1, 1, 0, 1, 1, 1, 1, 1],\n",
       "       [1, 1, 1, 1, 1, 1, 1, 1, 1, 1, 1, 1, 1, 1, 1, 0, 1, 1, 1, 1],\n",
       "       [1, 1, 1, 1, 1, 1, 1, 1, 1, 1, 1, 1, 1, 1, 1, 1, 0, 1, 1, 1],\n",
       "       [1, 1, 1, 1, 1, 1, 1, 1, 1, 1, 1, 1, 1, 1, 1, 1, 1, 0, 1, 1],\n",
       "       [1, 1, 1, 1, 1, 1, 1, 1, 1, 1, 1, 1, 1, 1, 1, 1, 1, 1, 0, 1],\n",
       "       [1, 1, 1, 1, 1, 1, 1, 1, 1, 1, 1, 1, 1, 1, 1, 1, 1, 1, 1, 0]],\n",
       "      dtype=uint8)"
      ]
     },
     "execution_count": 9,
     "metadata": {},
     "output_type": "execute_result"
    }
   ],
   "source": [
    "anticommutation_matrix(x, z)"
   ]
  },
  {
   "cell_type": "code",
   "execution_count": null,
   "id": "0d37e900",
   "metadata": {},
   "outputs": [],
   "source": []
  }
 ],
 "metadata": {
  "kernelspec": {
   "display_name": ".venv",
   "language": "python",
   "name": "python3"
  },
  "language_info": {
   "codemirror_mode": {
    "name": "ipython",
    "version": 3
   },
   "file_extension": ".py",
   "mimetype": "text/x-python",
   "name": "python",
   "nbconvert_exporter": "python",
   "pygments_lexer": "ipython3",
   "version": "3.11.9"
  }
 },
 "nbformat": 4,
 "nbformat_minor": 5
}

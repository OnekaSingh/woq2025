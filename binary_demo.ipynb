{
 "cells": [
  {
   "cell_type": "code",
   "execution_count": 1,
   "id": "f7c110b2",
   "metadata": {},
   "outputs": [],
   "source": [
    "%load_ext autoreload\n",
    "%autoreload 2\n",
    "\n",
    "from jordan_wigner import jw_majoranas\n",
    "from electronic_hamiltonian import quadratic_terms\n",
    "from qiskit.quantum_info import PauliList\n",
    "from tableau import spread_node, spread_node_slice, anticommutation_matrix\n",
    "import random\n",
    "from cost_functions import weight, quadratic_term_mean_weight\n",
    "from annealing import anneal\n",
    "import matplotlib.pyplot as plt"
   ]
  },
  {
   "cell_type": "code",
   "execution_count": 2,
   "id": "c4c96aa2",
   "metadata": {},
   "outputs": [
    {
     "name": "stdout",
     "output_type": "stream",
     "text": [
      "Majorana Operators: ['IIIIIIIIIX', 'IIIIIIIIXZ', 'IIIIIIIXZZ', 'IIIIIIXZZZ', 'IIIIIXZZZZ',\n",
      " 'IIIIXZZZZZ', 'IIIXZZZZZZ', 'IIXZZZZZZZ', 'IXZZZZZZZZ', 'XZZZZZZZZZ',\n",
      " 'IIIIIIIIIY', 'IIIIIIIIYZ', 'IIIIIIIYZZ', 'IIIIIIYZZZ', 'IIIIIYZZZZ',\n",
      " 'IIIIYZZZZZ', 'IIIYZZZZZZ', 'IIYZZZZZZZ', 'IYZZZZZZZZ', 'YZZZZZZZZZ']\n",
      "Quadratic Hamiltonian Terms: ['IIIIIIIIXY', 'IIIIIIIXZY', 'IIIIIIXZZY', 'IIIIIXZZZY', 'IIIIXZZZZY',\n",
      " 'IIIXZZZZZY', 'IIXZZZZZZY', 'IXZZZZZZZY', 'XZZZZZZZZY', 'IIIIIIIXYI',\n",
      " 'IIIIIIXZYI', 'IIIIIXZZYI', 'IIIIXZZZYI', 'IIIXZZZZYI', 'IIXZZZZZYI',\n",
      " 'IXZZZZZZYI', 'XZZZZZZZYI', 'IIIIIIXYII', 'IIIIIXZYII', 'IIIIXZZYII',\n",
      " 'IIIXZZZYII', 'IIXZZZZYII', 'IXZZZZZYII', 'XZZZZZZYII', 'IIIIIXYIII',\n",
      " 'IIIIXZYIII', 'IIIXZZYIII', 'IIXZZZYIII', 'IXZZZZYIII', 'XZZZZZYIII',\n",
      " 'IIIIXYIIII', 'IIIXZYIIII', 'IIXZZYIIII', 'IXZZZYIIII', 'XZZZZYIIII',\n",
      " 'IIIXYIIIII', 'IIXZYIIIII', 'IXZZYIIIII', 'XZZZYIIIII', 'IIXYIIIIII',\n",
      " 'IXZYIIIIII', 'XZZYIIIIII', 'IXYIIIIIII', 'XZYIIIIIII', 'XYIIIIIIII']\n",
      "Average Weight: 110\n"
     ]
    }
   ],
   "source": [
    "N = 10\n",
    "\n",
    "x, z = jw_majoranas(N)\n",
    "\n",
    "paulis = PauliList.from_symplectic(z, x)\n",
    "\n",
    "print(\"Majorana Operators:\", paulis)\n",
    "\n",
    "x_terms, z_terms = quadratic_terms(x, z, N)\n",
    "\n",
    "quadratic_terms_paulis = PauliList.from_symplectic(z_terms, x_terms)\n",
    "\n",
    "print(\"Quadratic Hamiltonian Terms:\", quadratic_terms_paulis)\n",
    "\n",
    "print(f\"Average Weight: {weight(x, z)}\")"
   ]
  },
  {
   "cell_type": "code",
   "execution_count": 3,
   "id": "abd0b1cb",
   "metadata": {},
   "outputs": [
    {
     "name": "stdout",
     "output_type": "stream",
     "text": [
      "T0 = 20\n",
      "Iteration 10 4.644444444444445\n",
      "Iteration 23 4.511111111111111\n",
      "Iteration 29 4.355555555555555\n",
      "Iteration 41 4.311111111111111\n",
      "Iteration 52 4.133333333333334\n",
      "Iteration 72 4.044444444444444\n",
      "Iteration 75 3.8666666666666667\n",
      "Iteration 76 3.466666666666667\n",
      "Iteration 1445 3.088888888888889\n",
      "Iteration 3754 2.977777777777778\n",
      "Iteration 24792 2.7777777777777777\n",
      "Iteration 36365 2.688888888888889\n"
     ]
    },
    {
     "data": {
      "text/plain": [
       "[<matplotlib.lines.Line2D at 0x1e2e311f6d0>]"
      ]
     },
     "execution_count": 3,
     "metadata": {},
     "output_type": "execute_result"
    },
    {
     "data": {
      "image/png": "[encoded data removed]",
      "text/plain": [
       "<Figure size 640x480 with 1 Axes>"
      ]
     },
     "metadata": {},
     "output_type": "display_data"
    }
   ],
   "source": [
    "x, z, energies, energy_opt = anneal(x, z, explore=spread_node, energy=quadratic_term_mean_weight, cooling_rate=0.99995)\n",
    "\n",
    "paulis = PauliList.from_symplectic(z, x)\n",
    "\n",
    "plt.plot(energies)"
   ]
  },
  {
   "cell_type": "code",
   "execution_count": 9,
   "id": "7a9b3bed",
   "metadata": {},
   "outputs": [
    {
     "data": {
      "text/plain": [
       "array([[0, 1, 1, 1, 1, 1, 1, 1, 1, 1, 1, 1, 1, 1, 1, 1, 1, 1, 1, 1],\n",
       "       [1, 0, 1, 1, 1, 1, 1, 1, 1, 1, 1, 1, 1, 1, 1, 1, 1, 1, 1, 1],\n",
       "       [1, 1, 0, 1, 1, 1, 1, 1, 1, 1, 1, 1, 1, 1, 1, 1, 1, 1, 1, 1],\n",
       "       [1, 1, 1, 0, 1, 1, 1, 1, 1, 1, 1, 1, 1, 1, 1, 1, 1, 1, 1, 1],\n",
       "       [1, 1, 1, 1, 0, 1, 1, 1, 1, 1, 1, 1, 1, 1, 1, 1, 1, 1, 1, 1],\n",
       "       [1, 1, 1, 1, 1, 0, 1, 1, 1, 1, 1, 1, 1, 1, 1, 1, 1, 1, 1, 1],\n",
       "       [1, 1, 1, 1, 1, 1, 0, 1, 1, 1, 1, 1, 1, 1, 1, 1, 1, 1, 1, 1],\n",
       "       [1, 1, 1, 1, 1, 1, 1, 0, 1, 1, 1, 1, 1, 1, 1, 1, 1, 1, 1, 1],\n",
       "       [1, 1, 1, 1, 1, 1, 1, 1, 0, 1, 1, 1, 1, 1, 1, 1, 1, 1, 1, 1],\n",
       "       [1, 1, 1, 1, 1, 1, 1, 1, 1, 0, 1, 1, 1, 1, 1, 1, 1, 1, 1, 1],\n",
       "       [1, 1, 1, 1, 1, 1, 1, 1, 1, 1, 0, 1, 1, 1, 1, 1, 1, 1, 1, 1],\n",
       "       [1, 1, 1, 1, 1, 1, 1, 1, 1, 1, 1, 0, 1, 1, 1, 1, 1, 1, 1, 1],\n",
       "       [1, 1, 1, 1, 1, 1, 1, 1, 1, 1, 1, 1, 0, 1, 1, 1, 1, 1, 1, 1],\n",
       "       [1, 1, 1, 1, 1, 1, 1, 1, 1, 1, 1, 1, 1, 0, 1, 1, 1, 1, 1, 1],\n",
       "       [1, 1, 1, 1, 1, 1, 1, 1, 1, 1, 1, 1, 1, 1, 0, 1, 1, 1, 1, 1],\n",
       "       [1, 1, 1, 1, 1, 1, 1, 1, 1, 1, 1, 1, 1, 1, 1, 0, 1, 1, 1, 1],\n",
       "       [1, 1, 1, 1, 1, 1, 1, 1, 1, 1, 1, 1, 1, 1, 1, 1, 0, 1, 1, 1],\n",
       "       [1, 1, 1, 1, 1, 1, 1, 1, 1, 1, 1, 1, 1, 1, 1, 1, 1, 0, 1, 1],\n",
       "       [1, 1, 1, 1, 1, 1, 1, 1, 1, 1, 1, 1, 1, 1, 1, 1, 1, 1, 0, 1],\n",
       "       [1, 1, 1, 1, 1, 1, 1, 1, 1, 1, 1, 1, 1, 1, 1, 1, 1, 1, 1, 0]],\n",
       "      dtype=uint8)"
      ]
     },
     "execution_count": 9,
     "metadata": {},
     "output_type": "execute_result"
    }
   ],
   "source": [
    "anticommutation_matrix(x, z)"
   ]
  },
  {
   "cell_type": "code",
   "execution_count": null,
   "id": "0d37e900",
   "metadata": {},
   "outputs": [],
   "source": []
  }
 ],
 "metadata": {
  "kernelspec": {
   "display_name": ".venv",
   "language": "python",
   "name": "python3"
  },
  "language_info": {
   "codemirror_mode": {
    "name": "ipython",
    "version": 3
   },
   "file_extension": ".py",
   "mimetype": "text/x-python",
   "name": "python",
   "nbconvert_exporter": "python",
   "pygments_lexer": "ipython3",
   "version": "3.11.9"
  }
 },
 "nbformat": 4,
 "nbformat_minor": 5
}

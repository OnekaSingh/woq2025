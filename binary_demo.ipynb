{
 "cells": [
  {
   "cell_type": "code",
   "execution_count": 1,
   "id": "f7c110b2",
   "metadata": {},
   "outputs": [],
   "source": [
    "%load_ext autoreload\n",
    "%autoreload 2\n",
    "\n",
    "from jordan_wigner import jw_majoranas\n",
    "from qiskit.quantum_info import PauliList\n",
    "from tableau import spread_node, spread_node_slice, anticommutation_matrix\n",
    "import random"
   ]
  },
  {
   "cell_type": "code",
   "execution_count": 2,
   "id": "c4c96aa2",
   "metadata": {},
   "outputs": [
    {
     "name": "stdout",
     "output_type": "stream",
     "text": [
      "['IIIIIIIIIX', 'IIIIIIIIXZ', 'IIIIIIIXZZ', 'IIIIIIXZZZ', 'IIIIIXZZZZ',\n",
      " 'IIIIXZZZZZ', 'IIIXZZZZZZ', 'IIXZZZZZZZ', 'IXZZZZZZZZ', 'XZZZZZZZZZ',\n",
      " 'IIIIIIIIIY', 'IIIIIIIIYZ', 'IIIIIIIYZZ', 'IIIIIIYZZZ', 'IIIIIYZZZZ',\n",
      " 'IIIIYZZZZZ', 'IIIYZZZZZZ', 'IIYZZZZZZZ', 'IYZZZZZZZZ', 'YZZZZZZZZZ']\n"
     ]
    }
   ],
   "source": [
    "N = 10\n",
    "\n",
    "x, z = jw_majoranas(N)\n",
    "\n",
    "paulis = PauliList.from_symplectic(z, x)\n",
    "\n",
    "print(paulis)"
   ]
  },
  {
   "cell_type": "code",
   "execution_count": 5,
   "id": "abd0b1cb",
   "metadata": {},
   "outputs": [
    {
     "name": "stdout",
     "output_type": "stream",
     "text": [
      "['XZZZZZXIII', 'IIIIIIYZZZ', 'IIIIIYXIII', 'IIIIXZXIII', 'YZZZZZXIII',\n",
      " 'IIIIIIYZXI', 'IIIXZZXIII', 'IIIIIIYZYI', 'IIIIIIYZZY', 'IIIIIIYXII',\n",
      " 'IIIIIIZIII', 'IXZZZZXIII', 'IIXZZZXIII', 'IIIIIIYZZX', 'IIIIIXXIII',\n",
      " 'IIIYZZXIII', 'IIIIYZXIII', 'IYZZZZXIII', 'IIYZZZXIII', 'IIIIIIYYII']\n"
     ]
    }
   ],
   "source": [
    "for _ in range(1000000):\n",
    "\n",
    "    x, z = spread_node_slice(n=random.randint(0, 2*N-1), x=x, z=z)\n",
    "\n",
    "    paulis = PauliList.from_symplectic(z, x)\n",
    "\n",
    "print(paulis)"
   ]
  },
  {
   "cell_type": "code",
   "execution_count": 20,
   "id": "7a9b3bed",
   "metadata": {},
   "outputs": [
    {
     "data": {
      "text/plain": [
       "array([[0, 1, 1, 1, 1, 1, 1, 1, 1, 1, 1, 1, 1, 1, 1, 1, 1, 1, 1, 1],\n",
       "       [1, 0, 1, 1, 1, 1, 1, 1, 1, 1, 1, 1, 1, 1, 1, 1, 1, 1, 1, 1],\n",
       "       [1, 1, 0, 1, 1, 1, 1, 1, 1, 1, 1, 1, 1, 1, 1, 1, 1, 1, 1, 1],\n",
       "       [1, 1, 1, 0, 1, 1, 1, 1, 1, 1, 1, 1, 1, 1, 1, 1, 1, 1, 1, 1],\n",
       "       [1, 1, 1, 1, 0, 1, 1, 1, 1, 1, 1, 1, 1, 1, 1, 1, 1, 1, 1, 1],\n",
       "       [1, 1, 1, 1, 1, 0, 1, 1, 1, 1, 1, 1, 1, 1, 1, 1, 1, 1, 1, 1],\n",
       "       [1, 1, 1, 1, 1, 1, 0, 1, 1, 1, 1, 1, 1, 1, 1, 1, 1, 1, 1, 1],\n",
       "       [1, 1, 1, 1, 1, 1, 1, 0, 1, 1, 1, 1, 1, 1, 1, 1, 1, 1, 1, 1],\n",
       "       [1, 1, 1, 1, 1, 1, 1, 1, 0, 1, 1, 1, 1, 1, 1, 1, 1, 1, 1, 1],\n",
       "       [1, 1, 1, 1, 1, 1, 1, 1, 1, 0, 1, 1, 1, 1, 1, 1, 1, 1, 1, 1],\n",
       "       [1, 1, 1, 1, 1, 1, 1, 1, 1, 1, 0, 1, 1, 1, 1, 1, 1, 1, 1, 1],\n",
       "       [1, 1, 1, 1, 1, 1, 1, 1, 1, 1, 1, 0, 1, 1, 1, 1, 1, 1, 1, 1],\n",
       "       [1, 1, 1, 1, 1, 1, 1, 1, 1, 1, 1, 1, 0, 1, 1, 1, 1, 1, 1, 1],\n",
       "       [1, 1, 1, 1, 1, 1, 1, 1, 1, 1, 1, 1, 1, 0, 1, 1, 1, 1, 1, 1],\n",
       "       [1, 1, 1, 1, 1, 1, 1, 1, 1, 1, 1, 1, 1, 1, 0, 1, 1, 1, 1, 1],\n",
       "       [1, 1, 1, 1, 1, 1, 1, 1, 1, 1, 1, 1, 1, 1, 1, 0, 1, 1, 1, 1],\n",
       "       [1, 1, 1, 1, 1, 1, 1, 1, 1, 1, 1, 1, 1, 1, 1, 1, 0, 1, 1, 1],\n",
       "       [1, 1, 1, 1, 1, 1, 1, 1, 1, 1, 1, 1, 1, 1, 1, 1, 1, 0, 1, 1],\n",
       "       [1, 1, 1, 1, 1, 1, 1, 1, 1, 1, 1, 1, 1, 1, 1, 1, 1, 1, 0, 1],\n",
       "       [1, 1, 1, 1, 1, 1, 1, 1, 1, 1, 1, 1, 1, 1, 1, 1, 1, 1, 1, 0]],\n",
       "      dtype=uint8)"
      ]
     },
     "execution_count": 20,
     "metadata": {},
     "output_type": "execute_result"
    }
   ],
   "source": [
    "anticommutation_matrix(x, z)"
   ]
  },
  {
   "cell_type": "code",
   "execution_count": null,
   "id": "0d37e900",
   "metadata": {},
   "outputs": [],
   "source": []
  }
 ],
 "metadata": {
  "kernelspec": {
   "display_name": ".venv",
   "language": "python",
   "name": "python3"
  },
  "language_info": {
   "codemirror_mode": {
    "name": "ipython",
    "version": 3
   },
   "file_extension": ".py",
   "mimetype": "text/x-python",
   "name": "python",
   "nbconvert_exporter": "python",
   "pygments_lexer": "ipython3",
   "version": "3.11.9"
  }
 },
 "nbformat": 4,
 "nbformat_minor": 5
}

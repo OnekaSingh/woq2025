{
 "cells": [
  {
   "cell_type": "markdown",
   "id": "0c47f7c1-ef77-481d-bedc-c4be2e44679c",
   "metadata": {},
   "source": [
    "# Using graphs and majorana operations to do fermionic to qubit mapping"
   ]
  },
  {
   "cell_type": "markdown",
   "id": "fa8a4902-04f2-4fd8-8933-003b21837b02",
   "metadata": {},
   "source": [
    "#### Team:"
   ]
  },
  {
   "cell_type": "markdown",
   "id": "738f3c1f-2cbe-4126-99ed-a43668673c43",
   "metadata": {},
   "source": [
    "## Introduction"
   ]
  },
  {
   "cell_type": "markdown",
   "id": "5000ff87-56c3-4ed8-9833-9df31aeac67b",
   "metadata": {},
   "source": [
    "## Idea"
   ]
  },
  {
   "cell_type": "markdown",
   "id": "fdfe5c0d-79ca-4d93-b3a3-4a6e7fd08a2d",
   "metadata": {},
   "source": [
    "## \"Naive\"/default solution and motivation for our problem"
   ]
  },
  {
   "cell_type": "markdown",
   "id": "4807e298-b4cf-4ec3-a66b-bdf154bebd33",
   "metadata": {},
   "source": [
    "## Solution"
   ]
  },
  {
   "cell_type": "markdown",
   "id": "4083eaf0-8cef-478a-8cb5-d704c5e8f323",
   "metadata": {},
   "source": [
    "## Results"
   ]
  },
  {
   "cell_type": "markdown",
   "id": "f5c82e5f-f1e3-43fd-98a9-a9c8f5fc70d1",
   "metadata": {},
   "source": [
    "## Conclusion"
   ]
  },
  {
   "cell_type": "markdown",
   "id": "27f517c6-90fd-4a19-b166-e76df51b49ed",
   "metadata": {},
   "source": [
    "## Outlook"
   ]
  },
  {
   "cell_type": "code",
   "execution_count": null,
   "id": "63240c94-0736-4361-9c4b-0fd511f0723b",
   "metadata": {},
   "outputs": [],
   "source": []
  }
 ],
 "metadata": {
  "kernelspec": {
   "display_name": "Python 3 (ipykernel)",
   "language": "python",
   "name": "python3"
  },
  "language_info": {
   "codemirror_mode": {
    "name": "ipython",
    "version": 3
   },
   "file_extension": ".py",
   "mimetype": "text/x-python",
   "name": "python",
   "nbconvert_exporter": "python",
   "pygments_lexer": "ipython3",
   "version": "3.10.12"
  }
 },
 "nbformat": 4,
 "nbformat_minor": 5
}

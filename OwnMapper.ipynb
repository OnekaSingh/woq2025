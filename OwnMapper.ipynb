{
 "cells": [
  {
   "cell_type": "markdown",
   "id": "28397057-f896-4633-8ff4-04fa7bad000d",
   "metadata": {},
   "source": [
    "# Try writing own mapper"
   ]
  },
  {
   "cell_type": "code",
   "execution_count": 1,
   "id": "1f6ba1a7-d24c-4814-a746-8ead5104865a",
   "metadata": {},
   "outputs": [],
   "source": [
    "from __future__ import annotations\n",
    "\n",
    "from functools import lru_cache\n",
    "\n",
    "import numpy as np\n",
    "\n",
    "from qiskit.quantum_info.operators import Pauli\n",
    "\n",
    "from qiskit_nature.second_q.mappers.fermionic_mapper import FermionicMapper\n",
    "from qiskit_nature.second_q.mappers import JordanWignerMapper, BravyiKitaevMapper"
   ]
  },
  {
   "cell_type": "markdown",
   "id": "f3794fca-8fd8-4bcb-a83c-d054f8336cf7",
   "metadata": {},
   "source": [
    "## Build up problem"
   ]
  },
  {
   "cell_type": "code",
   "execution_count": 2,
   "id": "b874ae15-f767-495b-b086-c9c92a492ac3",
   "metadata": {},
   "outputs": [],
   "source": [
    "# imports\n",
    "from qiskit_nature.second_q.drivers import PySCFDriver\n",
    "from qiskit_nature.second_q.circuit.library import UCCSD, HartreeFock\n",
    "import numpy as np\n",
    "from qiskit_algorithms import VQE\n",
    "from qiskit_algorithms.optimizers import SLSQP\n",
    "from qiskit.primitives import Estimator\n",
    "\n",
    "from qiskit_algorithms import AdaptVQE\n",
    "from qiskit_nature.second_q.algorithms import GroundStateEigensolver\n",
    "from qiskit_algorithms.minimum_eigensolvers import NumPyMinimumEigensolver"
   ]
  },
  {
   "cell_type": "code",
   "execution_count": 3,
   "id": "ff129c62-3af8-4896-865c-b443337bcb6e",
   "metadata": {},
   "outputs": [],
   "source": [
    "driver = PySCFDriver(atom=\"H 0 0 0; H 0 0 0.735\", basis=\"sto-3g\")\n",
    "problem = driver.run()"
   ]
  },
  {
   "cell_type": "code",
   "execution_count": 4,
   "id": "546a0805-e35b-46fe-b672-3bb4dc3ee2d2",
   "metadata": {},
   "outputs": [
    {
     "name": "stdout",
     "output_type": "stream",
     "text": [
      "Num particles: (1, 1)\n",
      "Num orbitals: 2\n"
     ]
    }
   ],
   "source": [
    "print(f\"Num particles: {problem.num_particles}\")\n",
    "print(f\"Num orbitals: {problem.num_spatial_orbitals}\")"
   ]
  },
  {
   "cell_type": "markdown",
   "id": "8e3cb062-4de5-4a7a-9b0a-4db0d5c25091",
   "metadata": {},
   "source": [
    "## Integrate code for optimizing Majorana"
   ]
  },
  {
   "cell_type": "code",
   "execution_count": 5,
   "id": "ed96eea8-1d20-436c-b22c-76aec81b5ba5",
   "metadata": {},
   "outputs": [],
   "source": [
    "%load_ext autoreload\n",
    "%autoreload 2\n",
    "\n",
    "from jordan_wigner import jw_majoranas\n",
    "from electronic_hamiltonian import quadratic_terms\n",
    "from qiskit.quantum_info import PauliList\n",
    "from tableau import spread_node, spread_node_slice, anticommutation_matrix\n",
    "import random\n",
    "from cost_functions import weight, quadratic_term_mean_weight\n",
    "from annealing import anneal\n",
    "import matplotlib.pyplot as plt"
   ]
  },
  {
   "cell_type": "code",
   "execution_count": 6,
   "id": "36f08f9c-5b44-4e77-a4b4-2134512d68e9",
   "metadata": {},
   "outputs": [
    {
     "name": "stdout",
     "output_type": "stream",
     "text": [
      "Majorana Operators: ['IIIX', 'IIXZ', 'IXZZ', 'XZZZ', 'IIIY', 'IIYZ', 'IYZZ', 'YZZZ']\n",
      "Quadratic Hamiltonian Terms: ['IIXY', 'IXZY', 'XZZY', 'IXYI', 'XZYI', 'XYII']\n",
      "Average Weight: 20\n"
     ]
    }
   ],
   "source": [
    "N = problem.num_spatial_orbitals*2\n",
    "\n",
    "x, z = jw_majoranas(N)\n",
    "\n",
    "paulis = PauliList.from_symplectic(z, x)\n",
    "\n",
    "print(\"Majorana Operators:\", paulis)\n",
    "\n",
    "x_terms, z_terms = quadratic_terms(x, z, N)\n",
    "\n",
    "quadratic_terms_paulis = PauliList.from_symplectic(z_terms, x_terms)\n",
    "\n",
    "print(\"Quadratic Hamiltonian Terms:\", quadratic_terms_paulis)\n",
    "\n",
    "print(f\"Average Weight: {weight(x, z)}\")"
   ]
  },
  {
   "cell_type": "code",
   "execution_count": 7,
   "id": "6cfc8366-6976-4d45-8cc8-b608e2a1de94",
   "metadata": {},
   "outputs": [
    {
     "name": "stdout",
     "output_type": "stream",
     "text": [
      "Initial temperature T0 = 0.0833\n",
      "Iteration 4: New optimal energy = 2.500000\n",
      "Iteration 5: New optimal energy = 2.166667\n",
      "Iteration 11: New optimal energy = 1.500000\n"
     ]
    },
    {
     "data": {
      "text/plain": [
       "[<matplotlib.lines.Line2D at 0x7f962b38be50>]"
      ]
     },
     "execution_count": 7,
     "metadata": {},
     "output_type": "execute_result"
    },
    {
     "data": {
      "image/png": "[encoded data removed]",
      "text/plain": [
       "<Figure size 640x480 with 1 Axes>"
      ]
     },
     "metadata": {},
     "output_type": "display_data"
    }
   ],
   "source": [
    "x, z, energies, energy_opt = anneal(x, z, explore=spread_node, energy=quadratic_term_mean_weight, cooling_rate=0.99995)\n",
    "\n",
    "paulis = PauliList.from_symplectic(z, x)\n",
    "\n",
    "plt.plot(energies)"
   ]
  },
  {
   "cell_type": "code",
   "execution_count": 8,
   "id": "7ec3f31f-5126-4341-af45-77ce65f38074",
   "metadata": {},
   "outputs": [
    {
     "name": "stdout",
     "output_type": "stream",
     "text": [
      "['IYZZ', 'IYZX', 'IYZY', 'IYYI', 'IZII', 'IYXI', 'XXII', 'YXII']\n"
     ]
    }
   ],
   "source": [
    "print(paulis)"
   ]
  },
  {
   "cell_type": "markdown",
   "id": "910f24a1-b2a4-4208-995f-c9b0c2621043",
   "metadata": {},
   "source": [
    "## Implement my OwnMapper"
   ]
  },
  {
   "cell_type": "code",
   "execution_count": 9,
   "id": "9909cccc-2465-4383-b535-f75010f330ac",
   "metadata": {},
   "outputs": [],
   "source": [
    "\"\"\"The My-Own Mapper. \"\"\"\n",
    "\n",
    "class MyOwnMapper(FermionicMapper):\n",
    "    \"\"\"The Jordan-Wigner fermion-to-qubit mapping.\"\"\"\n",
    "\n",
    "    @classmethod\n",
    "    @lru_cache(maxsize=32)\n",
    "    def pauli_table(cls, register_length: int) -> list[tuple[Pauli, Pauli]]:\n",
    "        # pylint: disable=unused-argument\n",
    "        pauli_table = []\n",
    "\n",
    "        #for i in range(register_length):\n",
    "            #a_z = np.asarray([1] * i + [0] + [0] * (register_length - i - 1), dtype=bool)\n",
    "            #a_x = np.asarray([0] * i + [1] + [0] * (register_length - i - 1), dtype=bool)\n",
    "            #b_z = np.asarray([1] * i + [1] + [0] * (register_length - i - 1), dtype=bool)\n",
    "            #b_x = np.asarray([0] * i + [1] + [0] * (register_length - i - 1), dtype=bool)\n",
    "            # c_z = np.asarray([0] * i + [1] + [0] * (register_length - i - 1), dtype=bool)\n",
    "            # c_x = np.asarray([0] * register_length, dtype=bool)\n",
    "            #pauli_table.append((Pauli((a_z, a_x)), Pauli((b_z, b_x))))\n",
    "            # TODO add Pauli 3-tuple to lookup table\n",
    "\n",
    "        for i in range(int(len(paulis)//2)):\n",
    "            pauli_table.append((paulis[i], paulis[int(len(paulis)//2+i)]))\n",
    "\n",
    "        \n",
    "        #pauli_table = paulis.copy()\n",
    "\n",
    "        print(pauli_table)\n",
    "\n",
    "        # PauliList has the phase information.\n",
    "        # Here, phase is unnecessary, so the following removes phase.\n",
    "        for pauli1, pauli2 in pauli_table:\n",
    "            pauli1.phase = 0\n",
    "            pauli2.phase = 0\n",
    "        return pauli_table"
   ]
  },
  {
   "cell_type": "markdown",
   "id": "996bb0e8-9746-4273-8755-054f596d2ce8",
   "metadata": {},
   "source": [
    "## Test My Own Mapper"
   ]
  },
  {
   "cell_type": "code",
   "execution_count": 10,
   "id": "0aa01f69-307d-4eeb-a402-1a95c1f65aee",
   "metadata": {},
   "outputs": [],
   "source": [
    "mappers = {}\n",
    "mappers[\"JW\"] = JordanWignerMapper()\n",
    "mappers[\"Own\"] = MyOwnMapper()\n",
    "mappers[\"Bravi-Kitaev\"] = BravyiKitaevMapper()"
   ]
  },
  {
   "cell_type": "code",
   "execution_count": 11,
   "id": "d85a336f-23d9-425d-9edd-9d0261c2d6ea",
   "metadata": {},
   "outputs": [],
   "source": [
    "def exact_solver(qubit_op, problem):\n",
    "    sol = NumPyMinimumEigensolver().compute_minimum_eigenvalue(qubit_op)\n",
    "    result = problem.interpret(sol)\n",
    "    return result"
   ]
  },
  {
   "cell_type": "code",
   "execution_count": 12,
   "id": "f6540203-63ed-491d-a57e-da1d2d70a810",
   "metadata": {},
   "outputs": [
    {
     "name": "stdout",
     "output_type": "stream",
     "text": [
      "Generating ansatz, vqe, and adapt-vqe for: JW\n",
      "     ┌───┐\n",
      "q_0: ┤ X ├\n",
      "     └───┘\n",
      "q_1: ─────\n",
      "     ┌───┐\n",
      "q_2: ┤ X ├\n",
      "     └───┘\n",
      "q_3: ─────\n",
      "          \n",
      "\tANSATZ: Count-Ops: OrderedDict([('h', 80), ('cx', 56), ('sdg', 20), ('s', 20), ('rz', 12), ('u', 2)]) size: 190 depth = 97\n",
      "\tqubit-op: SparsePauliOp(['IIII', 'IIIZ', 'IIZI', 'IZII', 'ZIII', 'IIZZ', 'IZIZ', 'ZIIZ', 'YYYY', 'XXYY', 'YYXX', 'XXXX', 'IZZI', 'ZIZI', 'ZZII'],\n",
      "              coeffs=[-0.81054798+0.j,  0.17218393+0.j, -0.22575349+0.j,  0.17218393+0.j,\n",
      " -0.22575349+0.j,  0.12091263+0.j,  0.16892754+0.j,  0.16614543+0.j,\n",
      "  0.0452328 +0.j,  0.0452328 +0.j,  0.0452328 +0.j,  0.0452328 +0.j,\n",
      "  0.16614543+0.j,  0.17464343+0.j,  0.12091263+0.j])\n",
      "{   'aux_operators_evaluated': None,\n",
      "    'cost_function_evals': 10,\n",
      "    'eigenvalue': -1.8572750301432643,\n",
      "    'optimal_circuit': <qiskit_nature.second_q.circuit.library.ansatzes.uccsd.UCCSD object at 0x7f962b001d50>,\n",
      "    'optimal_parameters': {   ParameterVectorElement(t[0]): 8.484831330573803e-08,\n",
      "                              ParameterVectorElement(t[1]): 1.5275421747708817e-07,\n",
      "                              ParameterVectorElement(t[2]): -0.11176248377880976},\n",
      "    'optimal_point': array([ 8.48483133e-08,  1.52754217e-07, -1.11762484e-01]),\n",
      "    'optimal_value': -1.8572750301432643,\n",
      "    'optimizer_evals': None,\n",
      "    'optimizer_result': <qiskit_algorithms.optimizers.optimizer.OptimizerResult object at 0x7f962b30b100>,\n",
      "    'optimizer_time': 0.41899991035461426}\n",
      "Total ground state energy(vqe) = -1.1373\n",
      "Total ground state energy(exact) = -1.1373\n",
      "[1, 2, 3, 4, 5, 6, 7, 8, 9, 10]\n",
      "[-1.8369679912029642, -1.8369679912029633, -1.8369679912029644, -1.8369679858107943, -1.757286642065063, -1.8572741956429213, -1.8572741956429228, -1.8572741956429235, -1.857274195677709, -1.8572750301432643]\n",
      "Generating ansatz, vqe, and adapt-vqe for: Own\n",
      "[(Pauli('IYZZ'), Pauli('IZII')), (Pauli('IYZX'), Pauli('IYXI')), (Pauli('IYZY'), Pauli('XXII')), (Pauli('IYYI'), Pauli('YXII'))]\n",
      "     ┌───┐\n",
      "q_0: ┤ X ├\n",
      "     └───┘\n",
      "q_1: ─────\n",
      "          \n",
      "q_2: ─────\n",
      "          \n",
      "q_3: ─────\n",
      "          \n",
      "\tANSATZ: Count-Ops: OrderedDict([('cx', 36), ('h', 34), ('sdg', 11), ('s', 11), ('rz', 9), ('u', 1), ('ry', 1), ('rxx', 1), ('rzx', 1)]) size: 105 depth = 69\n",
      "\tqubit-op: SparsePauliOp(['IIII', 'IXZZ', 'IIYX', 'XZZY', 'YZYI', 'IXXY', 'XYIX', 'YYXZ', 'YZXX', 'XZIZ', 'YYIZ', 'XYXX', 'XZXZ', 'YZIX', 'ZIXY'],\n",
      "              coeffs=[-0.81054798+0.j,  0.17218393+0.j, -0.22575349+0.j, -0.17218393+0.j,\n",
      "  0.22575349+0.j,  0.12091263+0.j,  0.16892754+0.j,  0.16614543+0.j,\n",
      " -0.0452328 +0.j, -0.0452328 +0.j, -0.0452328 +0.j,  0.0452328 +0.j,\n",
      "  0.16614543+0.j, -0.17464343+0.j,  0.12091263+0.j])\n",
      "{   'aux_operators_evaluated': None,\n",
      "    'cost_function_evals': 12,\n",
      "    'eigenvalue': -0.8130861968321914,\n",
      "    'optimal_circuit': <qiskit_nature.second_q.circuit.library.ansatzes.uccsd.UCCSD object at 0x7f962af3f6d0>,\n",
      "    'optimal_parameters': {   ParameterVectorElement(t[2]): -0.11266386752046581,\n",
      "                              ParameterVectorElement(t[1]): -3.7115142109097464e-08,\n",
      "                              ParameterVectorElement(t[0]): -3.345873224840652e-08},\n",
      "    'optimal_point': array([-3.34587322e-08, -3.71151421e-08, -1.12663868e-01]),\n",
      "    'optimal_value': -0.8130861968321914,\n",
      "    'optimizer_evals': None,\n",
      "    'optimizer_result': <qiskit_algorithms.optimizers.optimizer.OptimizerResult object at 0x7f962b0e5db0>,\n",
      "    'optimizer_time': 0.37563037872314453}\n",
      "Total ground state energy(vqe) = -0.0931\n",
      "Total ground state energy(exact) = -1.1373\n",
      "[1, 2, 3, 4, 5, 6, 7, 8, 9, 10, 11, 12]\n",
      "[-0.8105479805373254, -0.8105479805373251, -0.8105479805373254, -0.8105479798633038, -0.8121843839291156, -0.8121843839291155, -0.8121843839291154, -0.8121843835257034, -0.8130861968321914, -0.8130861968321913, -0.813086196832191, -0.8130861968376362]\n",
      "Generating ansatz, vqe, and adapt-vqe for: Bravi-Kitaev\n",
      "     ┌───┐\n",
      "q_0: ┤ X ├\n",
      "     ├───┤\n",
      "q_1: ┤ X ├\n",
      "     ├───┤\n",
      "q_2: ┤ X ├\n",
      "     └───┘\n",
      "q_3: ─────\n",
      "          \n",
      "\tANSATZ: Count-Ops: OrderedDict([('cx', 38), ('h', 36), ('sdg', 10), ('rz', 10), ('s', 10), ('u', 3), ('ry', 2)]) size: 109 depth = 77\n",
      "\tqubit-op: SparsePauliOp(['IIII', 'IIIZ', 'IIZZ', 'IZII', 'ZZZI', 'IIZI', 'IZIZ', 'ZZZZ', 'ZXIX', 'IXZX', 'ZXZX', 'IXIX', 'IZZZ', 'ZZIZ', 'ZIZI'],\n",
      "              coeffs=[-0.81054798+0.j,  0.17218393+0.j, -0.22575349+0.j,  0.17218393+0.j,\n",
      " -0.22575349+0.j,  0.12091263+0.j,  0.16892754+0.j,  0.16614543+0.j,\n",
      "  0.0452328 +0.j, -0.0452328 +0.j, -0.0452328 +0.j,  0.0452328 +0.j,\n",
      "  0.16614543+0.j,  0.17464343+0.j,  0.12091263+0.j])\n",
      "{   'aux_operators_evaluated': None,\n",
      "    'cost_function_evals': 10,\n",
      "    'eigenvalue': -1.8572750301443628,\n",
      "    'optimal_circuit': <qiskit_nature.second_q.circuit.library.ansatzes.uccsd.UCCSD object at 0x7f962b0e5420>,\n",
      "    'optimal_parameters': {   ParameterVectorElement(t[0]): -2.0215716343064837e-08,\n",
      "                              ParameterVectorElement(t[2]): -0.11176253792709025,\n",
      "                              ParameterVectorElement(t[1]): -2.0215716342760785e-08},\n",
      "    'optimal_point': array([-2.02157163e-08, -2.02157163e-08, -1.11762538e-01]),\n",
      "    'optimal_value': -1.8572750301443628,\n",
      "    'optimizer_evals': None,\n",
      "    'optimizer_result': <qiskit_algorithms.optimizers.optimizer.OptimizerResult object at 0x7f962b0e4e20>,\n",
      "    'optimizer_time': 0.4110591411590576}\n",
      "Total ground state energy(vqe) = -1.1373\n",
      "Total ground state energy(exact) = -1.1373\n",
      "[1, 2, 3, 4, 5, 6, 7, 8, 9, 10]\n",
      "[-1.8369679912029755, -1.836967991202976, -1.836967991202976, -1.8369679858108052, -1.7572866187338538, -1.8572741956340324, -1.857274195634032, -1.857274195634032, -1.8572741956688177, -1.8572750301443628]\n"
     ]
    }
   ],
   "source": [
    "for key in mappers.keys():\n",
    "    print(f\"Generating ansatz, vqe, and adapt-vqe for: {key}\")\n",
    "    qubit_op = mappers[key].map(problem.second_q_ops()[0])\n",
    "    \n",
    "    ansatz = UCCSD(\n",
    "        problem.num_spatial_orbitals,\n",
    "        problem.num_particles,\n",
    "        mappers[key],\n",
    "        initial_state=HartreeFock(\n",
    "            problem.num_spatial_orbitals,\n",
    "            problem.num_particles,\n",
    "            mappers[key],\n",
    "        ),\n",
    "    )\n",
    "\n",
    "    print(HartreeFock(\n",
    "            problem.num_spatial_orbitals,\n",
    "            problem.num_particles,\n",
    "            mappers[key],\n",
    "        ))\n",
    "    \n",
    "    counts = []\n",
    "    values = []\n",
    "\n",
    "    def store_intermediate_result(eval_count, parameters, mean, std):\n",
    "        counts.append(eval_count)\n",
    "        values.append(mean)\n",
    "        \n",
    "    vqe = VQE(Estimator(), ansatz, SLSQP(), callback=store_intermediate_result)\n",
    "    vqe.initial_point = np.zeros(ansatz.num_parameters)\n",
    "    \n",
    "    adapt_vqe = AdaptVQE(vqe)\n",
    "    adapt_vqe.supports_aux_operators = lambda: True  # temporary fix\n",
    "\n",
    "    print(f\"\\tANSATZ: Count-Ops: {ansatz.decompose().decompose().decompose().count_ops()} size: {ansatz.decompose().decompose().decompose().size()} depth = {ansatz.decompose().decompose().decompose().depth()}\")\n",
    "    print(f\"\\tqubit-op: {qubit_op}\")\n",
    "    \n",
    "    vqe_calc = vqe.compute_minimum_eigenvalue(qubit_op)\n",
    "    print(vqe_calc)\n",
    "    vqe_result = problem.interpret(vqe_calc).total_energies[0].real\n",
    "    result = exact_solver(qubit_op, problem)\n",
    "\n",
    "    print(f\"Total ground state energy(vqe) = {vqe_result:.4f}\")\n",
    "    print(f\"Total ground state energy(exact) = {result.total_energies[0].real:.4f}\")\n",
    "\n",
    "    print(counts)\n",
    "    print(values)"
   ]
  },
  {
   "cell_type": "code",
   "execution_count": null,
   "id": "f2f1ad52-90e0-4779-ba30-497ad734a103",
   "metadata": {},
   "outputs": [],
   "source": []
  }
 ],
 "metadata": {
  "kernelspec": {
   "display_name": "Python 3 (ipykernel)",
   "language": "python",
   "name": "python3"
  },
  "language_info": {
   "codemirror_mode": {
    "name": "ipython",
    "version": 3
   },
   "file_extension": ".py",
   "mimetype": "text/x-python",
   "name": "python",
   "nbconvert_exporter": "python",
   "pygments_lexer": "ipython3",
   "version": "3.10.12"
  }
 },
 "nbformat": 4,
 "nbformat_minor": 5
}

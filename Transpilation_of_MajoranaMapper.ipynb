{
 "cells": [
  {
   "cell_type": "markdown",
   "id": "28f195c2-ea49-4ede-93c7-1aa3d4fd9b29",
   "metadata": {},
   "source": [
    "# Use own MajoranaMapping and Transpile circuit"
   ]
  },
  {
   "cell_type": "code",
   "execution_count": 1,
   "id": "ee711dbe-7022-4c04-8ee0-12f1b97e009a",
   "metadata": {},
   "outputs": [],
   "source": [
    "# imports\n",
    "from __future__ import annotations\n",
    "\n",
    "from functools import lru_cache\n",
    "\n",
    "import numpy as np\n",
    "\n",
    "from qiskit.quantum_info.operators import Pauli\n",
    "\n",
    "from qiskit_nature.second_q.mappers.fermionic_mapper import FermionicMapper\n",
    "\n",
    "from qiskit_nature.second_q.drivers import PySCFDriver\n",
    "from qiskit_nature.second_q.mappers import JordanWignerMapper, ParityMapper, BravyiKitaevMapper\n",
    "from qiskit_nature.second_q.circuit.library import UCCSD, HartreeFock\n",
    "import numpy as np\n",
    "from qiskit_algorithms import VQE\n",
    "from qiskit_algorithms.optimizers import SLSQP\n",
    "from qiskit.primitives import Estimator\n",
    "\n",
    "from qiskit_algorithms import AdaptVQE\n",
    "from qiskit_nature.second_q.algorithms import GroundStateEigensolver\n",
    "\n",
    "from qiskit_ibm_runtime import QiskitRuntimeService\n",
    "from qiskit.transpiler.preset_passmanagers import generate_preset_pass_manager\n",
    "\n",
    "import time"
   ]
  },
  {
   "cell_type": "code",
   "execution_count": 156,
   "id": "464e9a26-2152-4e43-9778-505f9ae69b66",
   "metadata": {},
   "outputs": [
    {
     "name": "stdout",
     "output_type": "stream",
     "text": [
      "The autoreload extension is already loaded. To reload it, use:\n",
      "  %reload_ext autoreload\n"
     ]
    }
   ],
   "source": [
    "# imports for majorana mapping calculation\n",
    "%load_ext autoreload\n",
    "%autoreload 2\n",
    "\n",
    "from fermionic_mappings import bk_majoranas\n",
    "from electronic_hamiltonian import quadratic_terms\n",
    "from qiskit.quantum_info import PauliList\n",
    "from tableau import spread_node, spread_node_slice, anticommutation_matrix\n",
    "import random\n",
    "from cost_functions import weight, quadratic_term_mean_weight\n",
    "from annealing import anneal\n",
    "import matplotlib.pyplot as plt"
   ]
  },
  {
   "cell_type": "markdown",
   "id": "2f071324-8a84-4717-9ca7-c9c9ed361a10",
   "metadata": {},
   "source": [
    "## Define problem with ansatz"
   ]
  },
  {
   "cell_type": "code",
   "execution_count": 157,
   "id": "a43d3d34-00ca-434f-aeca-acd256e03a5d",
   "metadata": {},
   "outputs": [],
   "source": [
    "driver_h2o = PySCFDriver(atom=\"O 0.0 0.0 0.0; H 0.757 0.586 0.0; H -0.757 0.586 0.0\", basis=\"sto-3g\")\n",
    "problem_h2o = driver_h2o.run()\n",
    "\n",
    "driver_lih = PySCFDriver(atom=\"Li 0 0 0; H 0 0 1.5\", basis=\"sto-3g\")\n",
    "problem_lih = driver_lih.run()\n",
    "\n",
    "driver_h2 = PySCFDriver(atom=\"H 0 0 0; H 0 0 0.735\", basis=\"sto-3g\")\n",
    "problem_h2 = driver_h2.run()"
   ]
  },
  {
   "cell_type": "markdown",
   "id": "e3743fcf-2ae7-4dff-bea6-8f1bd7fc5574",
   "metadata": {},
   "source": [
    "## Build MajoranaMapper"
   ]
  },
  {
   "cell_type": "code",
   "execution_count": 158,
   "id": "aed13f01-ef19-44cc-890e-40430e2ca3f6",
   "metadata": {},
   "outputs": [],
   "source": [
    "\"\"\"The Majorana Mapper. \"\"\"\n",
    "n = 0\n",
    "def set_n(new_n):\n",
    "    global n \n",
    "    n = new_n\n",
    "\n",
    "def obtain_n():\n",
    "    return n\n",
    "    \n",
    "\n",
    "class MajoranaMapper(FermionicMapper):\n",
    "    \"\"\"The Majorana fermion-to-qubit mapping.\"\"\"\n",
    "    \n",
    "    @classmethod\n",
    "    @lru_cache(maxsize=32)\n",
    "    def pauli_table(cls, register_length: int) -> list[tuple[Pauli, Pauli]]:\n",
    "        # pylint: disable=unused-argument\n",
    "        pauli_table = []\n",
    "\n",
    "        N = obtain_n()\n",
    "        print(\"Num qubits: \", N)\n",
    "\n",
    "        # obtain majorana paulis for problem instance\n",
    "        x, z ,_= bk_majoranas(N)\n",
    "            \n",
    "        x, z, energies, energy_opt = anneal(x, z, explore=spread_node, energy=quadratic_term_mean_weight, cooling_rate=0.99995)\n",
    "\n",
    "        paulis = PauliList.from_symplectic(z, x)\n",
    "        #print(paulis)\n",
    "        \n",
    "        for i in range(int(len(paulis)//2)):\n",
    "            pauli_table.append((paulis[i], paulis[int(len(paulis)//2+i)]))\n",
    "\n",
    "        #print(pauli_table)\n",
    "\n",
    "        # PauliList has the phase information.\n",
    "        # Here, phase is unnecessary, so the following removes phase.\n",
    "        for pauli1, pauli2 in pauli_table:\n",
    "            pauli1.phase = 0\n",
    "            pauli2.phase = 0\n",
    "        return pauli_table"
   ]
  },
  {
   "cell_type": "markdown",
   "id": "3c860ed5-a8d5-4bee-a675-ac9683496054",
   "metadata": {},
   "source": [
    "## Add Mapping"
   ]
  },
  {
   "cell_type": "code",
   "execution_count": 159,
   "id": "312f8a54-954b-4af8-bd6e-01141137b81d",
   "metadata": {},
   "outputs": [],
   "source": [
    "mappers = {}\n",
    "mappers[\"JW\"] = JordanWignerMapper()\n",
    "#mappers[\"Parity\"] = ParityMapper()\n",
    "mappers[\"Bravi-Kitaev\"] = BravyiKitaevMapper()\n",
    "mappers[\"Majorana\"] = MajoranaMapper()"
   ]
  },
  {
   "cell_type": "markdown",
   "id": "4e79bde3-9861-4ef9-85df-226b60ae5c9d",
   "metadata": {},
   "source": [
    "## Create ansatz and transpile to ibm_torino"
   ]
  },
  {
   "cell_type": "code",
   "execution_count": 160,
   "id": "b78bce91-da92-4984-9a0f-e8f6913f2024",
   "metadata": {},
   "outputs": [],
   "source": [
    "service = QiskitRuntimeService()\n",
    "# We define a specific backend\n",
    "torino_backend = service.backend(\"ibm_torino\")\n",
    "\n",
    "seed = 43"
   ]
  },
  {
   "cell_type": "code",
   "execution_count": 161,
   "id": "0b041033-5db8-491e-9180-e1188ad219b8",
   "metadata": {},
   "outputs": [],
   "source": [
    "def obtain_resources(problem):   \n",
    "    for key in mappers.keys():\n",
    "        print(f\"Generating ansatz and transpiled ansatz for: {key}\")\n",
    "        if key == \"Majorana\":\n",
    "            set_n(2*problem.num_spatial_orbitals)\n",
    "\n",
    "        qubit_op = mappers[key].map(problem.second_q_ops()[0])\n",
    "    \n",
    "        ansatz = UCCSD(\n",
    "            problem.num_spatial_orbitals,\n",
    "            problem.num_particles,\n",
    "            mappers[key],\n",
    "            initial_state=HartreeFock(\n",
    "                problem.num_spatial_orbitals,\n",
    "                problem.num_particles,\n",
    "                mappers[key],\n",
    "            ),\n",
    "        )\n",
    "\n",
    "        print(f\"\\tANSATZ: Count-Ops: {ansatz.decompose().decompose().decompose().count_ops()} size: {ansatz.decompose().decompose().decompose().size()} depth = {ansatz.decompose().decompose().decompose().depth()}\")\n",
    "\n",
    "        # transpile ansatz\n",
    "        pm = generate_preset_pass_manager(\n",
    "            backend=torino_backend,\n",
    "            optimization_level=3,\n",
    "            seed_transpiler=seed,\n",
    "            layout_method=\"sabre\",\n",
    "        )\n",
    "\n",
    "        start = time.time()\n",
    "        circuit_opt = pm.run(ansatz)\n",
    "        end = time.time()\n",
    "        elapsed_seconds = end - start\n",
    "        circuit_opt.draw(\"mpl\", fold=False, idle_wires=False)\n",
    "        print(f\"\\tANSATZ transpilation took: {elapsed_seconds:.2f}\")\n",
    "        print(f\"\\tANSATZ transpiled: Count-Ops: {circuit_opt.decompose().decompose().decompose().count_ops()} size: {circuit_opt.decompose().decompose().decompose().size()} depth = {circuit_opt.decompose().decompose().decompose().depth()}\\n\\n\")"
   ]
  },
  {
   "cell_type": "code",
   "execution_count": 162,
   "id": "a7f8cfb7-2467-4002-9879-e0471a480fb5",
   "metadata": {},
   "outputs": [
    {
     "name": "stdout",
     "output_type": "stream",
     "text": [
      "Generating ansatz and transpiled ansatz for: JW\n",
      "\tANSATZ: Count-Ops: OrderedDict([('h', 80), ('cx', 56), ('sdg', 20), ('s', 20), ('rz', 12), ('u', 2)]) size: 190 depth = 97\n",
      "\tANSATZ transpilation took: 0.24\n",
      "\tANSATZ transpiled: Count-Ops: OrderedDict([('u3', 271), ('u', 97), ('cx', 41)]) size: 409 depth = 304\n",
      "\n",
      "\n",
      "Generating ansatz and transpiled ansatz for: Bravi-Kitaev\n",
      "\tANSATZ: Count-Ops: OrderedDict([('cx', 38), ('h', 36), ('sdg', 10), ('rz', 10), ('s', 10), ('u', 3), ('ry', 2)]) size: 109 depth = 77\n",
      "\tANSATZ transpilation took: 0.17\n",
      "\tANSATZ transpiled: Count-Ops: OrderedDict([('u3', 273), ('u', 85), ('cx', 39)]) size: 397 depth = 315\n",
      "\n",
      "\n",
      "Generating ansatz and transpiled ansatz for: Majorana\n",
      "Num qubits:  4\n",
      "\tANSATZ: Count-Ops: OrderedDict([('cx', 34), ('h', 28), ('rz', 9), ('sdg', 4), ('s', 4), ('u', 1), ('rzz', 1), ('rzx', 1), ('rx', 1)]) size: 83 depth = 55\n",
      "\tANSATZ transpilation took: 0.33\n",
      "\tANSATZ transpiled: Count-Ops: OrderedDict([('u3', 254), ('u', 77), ('cx', 40)]) size: 371 depth = 278\n",
      "\n",
      "\n"
     ]
    }
   ],
   "source": [
    "# proof of concept\n",
    "obtain_resources(problem_h2)"
   ]
  },
  {
   "cell_type": "code",
   "execution_count": null,
   "id": "580146b9-9ce5-4016-b975-f187345d1194",
   "metadata": {},
   "outputs": [
    {
     "name": "stdout",
     "output_type": "stream",
     "text": [
      "Generating ansatz and transpiled ansatz for: JW\n",
      "\tANSATZ: Count-Ops: OrderedDict([('cx', 14360), ('h', 7840), ('sdg', 1960), ('s', 1960), ('rz', 1000), ('u', 10)]) size: 27130 depth = 18014\n",
      "\tANSATZ transpilation took: 94.44\n",
      "\tANSATZ transpiled: Count-Ops: OrderedDict([('u3', 91821), ('u', 18331), ('cx', 14838)]) size: 124990 depth = 90377\n",
      "\n",
      "\n",
      "Generating ansatz and transpiled ansatz for: Bravi-Kitaev\n",
      "\tANSATZ: Count-Ops: OrderedDict([('cx', 13108), ('h', 11122), ('sdg', 2889), ('s', 2889), ('rz', 999), ('u', 6), ('ry', 1)]) size: 31014 depth = 16849\n",
      "\tANSATZ transpilation took: 62.05\n",
      "\tANSATZ transpiled: Count-Ops: OrderedDict([('u3', 128746), ('u', 20578), ('cx', 18338)]) size: 167662 depth = 110150\n",
      "\n",
      "\n",
      "Generating ansatz and transpiled ansatz for: Majorana\n",
      "Num qubits:  14\n",
      "\tANSATZ: Count-Ops: OrderedDict([('cx', 12208), ('h', 9488), ('sdg', 2286), ('s', 2286), ('rz', 993), ('u', 4), ('rzx', 3), ('ry', 2), ('rzz', 1), ('rx', 1)]) size: 27272 depth = 14817\n"
     ]
    }
   ],
   "source": [
    "obtain_resources(problem_h2o)"
   ]
  },
  {
   "cell_type": "code",
   "execution_count": 163,
   "id": "33b28168-73d5-4880-b823-bf7a07ca92d0",
   "metadata": {},
   "outputs": [
    {
     "name": "stdout",
     "output_type": "stream",
     "text": [
      "Generating ansatz and transpiled ansatz for: JW\n",
      "\tANSATZ: Count-Ops: OrderedDict([('cx', 8064), ('h', 4992), ('sdg', 1248), ('s', 1248), ('rz', 640), ('u', 4)]) size: 16196 depth = 10315\n",
      "\tANSATZ transpilation took: 50.24\n",
      "\tANSATZ transpiled: Count-Ops: OrderedDict([('u3', 40623), ('u', 9643), ('cx', 7134)]) size: 57400 depth = 43343\n",
      "\n",
      "\n",
      "Generating ansatz and transpiled ansatz for: Bravi-Kitaev\n",
      "\tANSATZ: Count-Ops: OrderedDict([('cx', 8680), ('h', 7440), ('sdg', 1670), ('s', 1670), ('rz', 640), ('u', 2)]) size: 20102 depth = 11043\n",
      "\tANSATZ transpilation took: 33.56\n",
      "\tANSATZ transpiled: Count-Ops: OrderedDict([('u3', 75662), ('u', 12922), ('cx', 10828)]) size: 99412 depth = 66261\n",
      "\n",
      "\n",
      "Generating ansatz and transpiled ansatz for: Majorana\n",
      "Num qubits:  12\n",
      "\tANSATZ: Count-Ops: OrderedDict([('cx', 6946), ('h', 5782), ('sdg', 1348), ('s', 1348), ('rz', 632), ('ry', 4), ('u', 2), ('rzx', 2), ('rxx', 1), ('rx', 1)]) size: 16066 depth = 8411\n",
      "\tANSATZ transpilation took: 32.85\n",
      "\tANSATZ transpiled: Count-Ops: OrderedDict([('u3', 93133), ('u', 14368), ('cx', 12527)]) size: 120028 depth = 65651\n",
      "\n",
      "\n"
     ]
    }
   ],
   "source": [
    "obtain_resources(problem_lih)"
   ]
  },
  {
   "cell_type": "code",
   "execution_count": null,
   "id": "1a197566-d9a8-4d76-8843-ef42d8c436c6",
   "metadata": {},
   "outputs": [],
   "source": []
  }
 ],
 "metadata": {
  "kernelspec": {
   "display_name": "Python 3 (ipykernel)",
   "language": "python",
   "name": "python3"
  },
  "language_info": {
   "codemirror_mode": {
    "name": "ipython",
    "version": 3
   },
   "file_extension": ".py",
   "mimetype": "text/x-python",
   "name": "python",
   "nbconvert_exporter": "python",
   "pygments_lexer": "ipython3",
   "version": "3.10.12"
  }
 },
 "nbformat": 4,
 "nbformat_minor": 5
}

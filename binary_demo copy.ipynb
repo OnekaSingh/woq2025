{
 "cells": [
  {
   "cell_type": "code",
   "execution_count": 113,
   "id": "f7c110b2",
   "metadata": {},
   "outputs": [
    {
     "name": "stdout",
     "output_type": "stream",
     "text": [
      "The autoreload extension is already loaded. To reload it, use:\n",
      "  %reload_ext autoreload\n"
     ]
    }
   ],
   "source": [
    "\n",
    "%load_ext autoreload\n",
    "%autoreload 2\n",
    "\n",
    "from jordan_wigner import jw_majoranas\n",
    "from qiskit.quantum_info import PauliList\n",
    "from tableau import spread_node, spread_node_slice, anticommutation_matrix\n",
    "from electronic_hamiltonian import quadratic_terms\n",
    "from cost_functions import quadratic_term_mean_weight, compute_cost_pauliString_circuitCoupling\n",
    "from annealing import anneal, anneal1\n",
    "import matplotlib.pyplot as plt"
   ]
  },
  {
   "cell_type": "code",
   "execution_count": 165,
   "id": "c4c96aa2",
   "metadata": {},
   "outputs": [
    {
     "name": "stdout",
     "output_type": "stream",
     "text": [
      "[ True  True False False False False False False False False]\n",
      "[ True False False False False False False False False False]\n",
      "(45, 10)\n",
      "['IIIIIIIIXY', 'IIIIIIIXZY', 'IIIIIIXZZY', 'IIIIIXZZZY', 'IIIIXZZZZY',\n",
      " 'IIIXZZZZZY', 'IIXZZZZZZY', 'IXZZZZZZZY', 'XZZZZZZZZY', 'IIIIIIIXYI',\n",
      " 'IIIIIIXZYI', 'IIIIIXZZYI', 'IIIIXZZZYI', 'IIIXZZZZYI', 'IIXZZZZZYI',\n",
      " 'IXZZZZZZYI', 'XZZZZZZZYI', 'IIIIIIXYII', 'IIIIIXZYII', 'IIIIXZZYII',\n",
      " 'IIIXZZZYII', 'IIXZZZZYII', 'IXZZZZZYII', 'XZZZZZZYII', 'IIIIIXYIII',\n",
      " 'IIIIXZYIII', 'IIIXZZYIII', 'IIXZZZYIII', 'IXZZZZYIII', 'XZZZZZYIII',\n",
      " 'IIIIXYIIII', 'IIIXZYIIII', 'IIXZZYIIII', 'IXZZZYIIII', 'XZZZZYIIII',\n",
      " 'IIIXYIIIII', 'IIXZYIIIII', 'IXZZYIIIII', 'XZZZYIIIII', 'IIXYIIIIII',\n",
      " 'IXZYIIIIII', 'XZZYIIIIII', 'IXYIIIIIII', 'XZYIIIIIII', 'XYIIIIIIII']\n"
     ]
    }
   ],
   "source": [
    "N = 10\n",
    "\n",
    "x, z = jw_majoranas(N)\n",
    "\n",
    "x_1, z_1 = quadratic_terms(x, z, N)\n",
    "print(x_1[0])\n",
    "print(z_1[0])\n",
    "print(x_1.shape)\n",
    "# print(x_1)\n",
    "# print(z)\n",
    "\n",
    "paulis = PauliList.from_symplectic(z_1, x_1)\n",
    "\n",
    "print(paulis)\n",
    "# print(f\"Average Weight: {average_weight(x, z)}\")\n",
    "# compute_cost_pauliString_circuitCoupling(x_1, z_1)\n",
    "# print(f\"Average Weight: {compute_cost_pauliString_circuitCoupling(x, z)}\")"
   ]
  },
  {
   "cell_type": "code",
   "execution_count": 168,
   "id": "abd0b1cb",
   "metadata": {},
   "outputs": [
    {
     "name": "stdout",
     "output_type": "stream",
     "text": [
      "T0 = 45\n",
      "Iteration 0 908\n",
      "Iteration 49 839\n",
      "Iteration 112 810\n",
      "Iteration 358 779\n",
      "Iteration 535 773\n",
      "Iteration 652 761\n",
      "Iteration 810 733\n",
      "Iteration 1630 645\n",
      "Iteration 9072 641\n",
      "Iteration 9592 555\n",
      "['IIIIIXZYII', 'IXZZZZZYII', 'IIIIIXZYXY', 'IXZZYXZYII', 'IIIIIXYXZY',\n",
      " 'IIIIIIIXZY', 'IIIIXYIXZY', 'IIIXZYIXZY', 'IIXZZYIXZY', 'IXZZZYIXZY',\n",
      " 'XZZZZYIXZY', 'IIIXZZZYII', 'IIIXZYXYII', 'IIIIIIIXYI', 'XZZZZYIXYI',\n",
      " 'IIXZZYIIII', 'IIXZZZZYII', 'IXZZZYIXYI', 'IIIIXYXYII', 'IIIIXZZYII',\n",
      " 'IIIIIIXYII', 'IIIIIXZZYI', 'XYIIIXZYII', 'IIXZZYXYII', 'IIIIIXZZZY',\n",
      " 'IIIXZYIXYI', 'IIIIIXYIII', 'IIIIIXYXYI', 'IXZZZYXYII', 'IXZZZYIIII',\n",
      " 'XZZZZYIIII', 'XZZZZYXYII', 'IIIIXYIIII', 'IIIXZYIIII', 'IIXZZYIXYI',\n",
      " 'IIXZYXZYII', 'XZZZZZZYII', 'XZYIIXZYII', 'IIIIXYIXYI', 'IIIXYXZYII',\n",
      " 'XZZZYXZYII', 'IIXYIXZYII', 'IXZYIXZYII', 'XZZYIXZYII', 'IXYIIXZYII']\n"
     ]
    },
    {
     "data": {
      "text/plain": [
       "[<matplotlib.lines.Line2D at 0x1ca980b18a0>]"
      ]
     },
     "execution_count": 168,
     "metadata": {},
     "output_type": "execute_result"
    },
    {
     "data": {
      "image/png": "[encoded data removed]",
      "text/plain": [
       "<Figure size 640x480 with 1 Axes>"
      ]
     },
     "metadata": {},
     "output_type": "display_data"
    }
   ],
   "source": [
    "\n",
    "# x_1, z_1, energies, energy_opt = anneal(x_1, z_1, explore=spread_node, energy=quadratic_term_mean_weight, cooling_rate=0.9995)\n",
    "x_1, z_1, energies, energy_opt = anneal(x_1, z_1, explore=spread_node, energy=compute_cost_pauliString_circuitCoupling, cooling_rate=0.9995)\n",
    "# x_1, z_1, energies, energy_opt = anneal(x_1, z_1, explore=spread_node, energy=compute_cost_pauliString_circuitCoupling)\n",
    "\n",
    "\n",
    "paulis = PauliList.from_symplectic(z_1, x_1)\n",
    "\n",
    "print(paulis)\n",
    "\n",
    "plt.plot(energies)\n"
   ]
  },
  {
   "cell_type": "code",
   "execution_count": 9,
   "id": "7a9b3bed",
   "metadata": {},
   "outputs": [
    {
     "data": {
      "text/plain": [
       "array([[0, 1, 1, 1, 1, 1, 1, 1, 1, 1, 1, 1, 1, 1, 1, 1, 1, 1, 1, 1],\n",
       "       [1, 0, 1, 1, 1, 1, 1, 1, 1, 1, 1, 1, 1, 1, 1, 1, 1, 1, 1, 1],\n",
       "       [1, 1, 0, 1, 1, 1, 1, 1, 1, 1, 1, 1, 1, 1, 1, 1, 1, 1, 1, 1],\n",
       "       [1, 1, 1, 0, 1, 1, 1, 1, 1, 1, 1, 1, 1, 1, 1, 1, 1, 1, 1, 1],\n",
       "       [1, 1, 1, 1, 0, 1, 1, 1, 1, 1, 1, 1, 1, 1, 1, 1, 1, 1, 1, 1],\n",
       "       [1, 1, 1, 1, 1, 0, 1, 1, 1, 1, 1, 1, 1, 1, 1, 1, 1, 1, 1, 1],\n",
       "       [1, 1, 1, 1, 1, 1, 0, 1, 1, 1, 1, 1, 1, 1, 1, 1, 1, 1, 1, 1],\n",
       "       [1, 1, 1, 1, 1, 1, 1, 0, 1, 1, 1, 1, 1, 1, 1, 1, 1, 1, 1, 1],\n",
       "       [1, 1, 1, 1, 1, 1, 1, 1, 0, 1, 1, 1, 1, 1, 1, 1, 1, 1, 1, 1],\n",
       "       [1, 1, 1, 1, 1, 1, 1, 1, 1, 0, 1, 1, 1, 1, 1, 1, 1, 1, 1, 1],\n",
       "       [1, 1, 1, 1, 1, 1, 1, 1, 1, 1, 0, 1, 1, 1, 1, 1, 1, 1, 1, 1],\n",
       "       [1, 1, 1, 1, 1, 1, 1, 1, 1, 1, 1, 0, 1, 1, 1, 1, 1, 1, 1, 1],\n",
       "       [1, 1, 1, 1, 1, 1, 1, 1, 1, 1, 1, 1, 0, 1, 1, 1, 1, 1, 1, 1],\n",
       "       [1, 1, 1, 1, 1, 1, 1, 1, 1, 1, 1, 1, 1, 0, 1, 1, 1, 1, 1, 1],\n",
       "       [1, 1, 1, 1, 1, 1, 1, 1, 1, 1, 1, 1, 1, 1, 0, 1, 1, 1, 1, 1],\n",
       "       [1, 1, 1, 1, 1, 1, 1, 1, 1, 1, 1, 1, 1, 1, 1, 0, 1, 1, 1, 1],\n",
       "       [1, 1, 1, 1, 1, 1, 1, 1, 1, 1, 1, 1, 1, 1, 1, 1, 0, 1, 1, 1],\n",
       "       [1, 1, 1, 1, 1, 1, 1, 1, 1, 1, 1, 1, 1, 1, 1, 1, 1, 0, 1, 1],\n",
       "       [1, 1, 1, 1, 1, 1, 1, 1, 1, 1, 1, 1, 1, 1, 1, 1, 1, 1, 0, 1],\n",
       "       [1, 1, 1, 1, 1, 1, 1, 1, 1, 1, 1, 1, 1, 1, 1, 1, 1, 1, 1, 0]],\n",
       "      dtype=uint8)"
      ]
     },
     "execution_count": 9,
     "metadata": {},
     "output_type": "execute_result"
    }
   ],
   "source": [
    "anticommutation_matrix(x, z)"
   ]
  },
  {
   "cell_type": "code",
   "execution_count": null,
   "id": "0d37e900",
   "metadata": {},
   "outputs": [],
   "source": []
  }
 ],
 "metadata": {
  "kernelspec": {
   "display_name": "venv_woc",
   "language": "python",
   "name": "python3"
  },
  "language_info": {
   "codemirror_mode": {
    "name": "ipython",
    "version": 3
   },
   "file_extension": ".py",
   "mimetype": "text/x-python",
   "name": "python",
   "nbconvert_exporter": "python",
   "pygments_lexer": "ipython3",
   "version": "3.10.11"
  }
 },
 "nbformat": 4,
 "nbformat_minor": 5
}

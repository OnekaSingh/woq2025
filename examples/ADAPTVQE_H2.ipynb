{
 "cells": [
  {
   "cell_type": "markdown",
   "id": "fdcf8b4e-9c55-4c5d-9b97-1e2313933074",
   "metadata": {},
   "source": [
    "# Proof of concept\n",
    "## Get Groundstate of H2 with AdaptVqe\n",
    "- taken from: https://qiskit-community.github.io/qiskit-nature/howtos/adapt_vqe.html"
   ]
  },
  {
   "cell_type": "code",
   "execution_count": 1,
   "id": "95b6c37a-ec29-459c-9e77-3aa46350749a",
   "metadata": {},
   "outputs": [],
   "source": [
    "# imports\n",
    "from qiskit_nature.second_q.drivers import PySCFDriver\n",
    "from qiskit_nature.second_q.mappers import JordanWignerMapper\n",
    "from qiskit_nature.second_q.circuit.library import UCCSD, HartreeFock\n",
    "import numpy as np\n",
    "from qiskit_algorithms import VQE\n",
    "from qiskit_algorithms.optimizers import SLSQP\n",
    "from qiskit.primitives import Estimator\n",
    "\n",
    "from qiskit_algorithms import AdaptVQE\n",
    "from qiskit_nature.second_q.algorithms import GroundStateEigensolver"
   ]
  },
  {
   "cell_type": "markdown",
   "id": "eb89e440-73ba-42b9-a02c-e4197d12b1f7",
   "metadata": {},
   "source": [
    "## Define problem with ansatz"
   ]
  },
  {
   "cell_type": "code",
   "execution_count": 2,
   "id": "ddb307e2-c1ec-425f-97a0-d937e2403f57",
   "metadata": {},
   "outputs": [],
   "source": [
    "driver = PySCFDriver(atom=\"H 0 0 0; H 0 0 0.735\", basis=\"sto-3g\")\n",
    "problem = driver.run()"
   ]
  },
  {
   "cell_type": "code",
   "execution_count": 3,
   "id": "e254dca0-e3b2-489b-bb9a-3db683e3d02c",
   "metadata": {},
   "outputs": [],
   "source": [
    "mapper = JordanWignerMapper()"
   ]
  },
  {
   "cell_type": "code",
   "execution_count": 4,
   "id": "e47387c1-94ea-4434-85d9-6349c6cf5f20",
   "metadata": {},
   "outputs": [],
   "source": [
    "ansatz = UCCSD(\n",
    "    problem.num_spatial_orbitals,\n",
    "    problem.num_particles,\n",
    "    mapper,\n",
    "    initial_state=HartreeFock(\n",
    "        problem.num_spatial_orbitals,\n",
    "        problem.num_particles,\n",
    "        mapper,\n",
    "    ),\n",
    ")"
   ]
  },
  {
   "cell_type": "code",
   "execution_count": 5,
   "id": "85eae774-a024-495a-b57b-86260393585d",
   "metadata": {},
   "outputs": [],
   "source": [
    "# define vqe\n",
    "vqe = VQE(Estimator(), ansatz, SLSQP())\n",
    "vqe.initial_point = np.zeros(ansatz.num_parameters)"
   ]
  },
  {
   "cell_type": "markdown",
   "id": "0a193877-21d9-41ef-a3cc-c170dcd2202a",
   "metadata": {},
   "source": [
    "## now setup AdaptVQE"
   ]
  },
  {
   "cell_type": "code",
   "execution_count": 6,
   "id": "4cdac372-3959-44fa-9acc-ba33defd0c65",
   "metadata": {},
   "outputs": [],
   "source": [
    "adapt_vqe = AdaptVQE(vqe)\n",
    "adapt_vqe.supports_aux_operators = lambda: True  # temporary fix"
   ]
  },
  {
   "cell_type": "markdown",
   "id": "126586b8-57d5-4131-8cc5-84ca8bf7944f",
   "metadata": {},
   "source": [
    "## Now get some results"
   ]
  },
  {
   "cell_type": "code",
   "execution_count": 7,
   "id": "b786908f-4364-4616-9d68-3ec3cabf084b",
   "metadata": {},
   "outputs": [],
   "source": [
    "solver = GroundStateEigensolver(mapper, adapt_vqe)"
   ]
  },
  {
   "cell_type": "code",
   "execution_count": 8,
   "id": "d43f414c-bf9b-4361-8f92-3d30f5854cef",
   "metadata": {},
   "outputs": [
    {
     "name": "stdout",
     "output_type": "stream",
     "text": [
      "Total ground state energy = -1.1373\n"
     ]
    }
   ],
   "source": [
    "result = solver.solve(problem)\n",
    "\n",
    "print(f\"Total ground state energy = {result.total_energies[0]:.4f}\")"
   ]
  },
  {
   "cell_type": "code",
   "execution_count": null,
   "id": "1ab7ec64-d0fc-4c68-8e6f-20db689c2b10",
   "metadata": {},
   "outputs": [],
   "source": []
  }
 ],
 "metadata": {
  "kernelspec": {
   "display_name": "Python 3 (ipykernel)",
   "language": "python",
   "name": "python3"
  },
  "language_info": {
   "codemirror_mode": {
    "name": "ipython",
    "version": 3
   },
   "file_extension": ".py",
   "mimetype": "text/x-python",
   "name": "python",
   "nbconvert_exporter": "python",
   "pygments_lexer": "ipython3",
   "version": "3.10.12"
  }
 },
 "nbformat": 4,
 "nbformat_minor": 5
}

{
 "cells": [
  {
   "cell_type": "markdown",
   "id": "28f195c2-ea49-4ede-93c7-1aa3d4fd9b29",
   "metadata": {},
   "source": [
    "# Transpile circuit with different mappings"
   ]
  },
  {
   "cell_type": "code",
   "execution_count": 5,
   "id": "ee711dbe-7022-4c04-8ee0-12f1b97e009a",
   "metadata": {},
   "outputs": [],
   "source": [
    "# imports\n",
    "from qiskit_nature.second_q.drivers import PySCFDriver\n",
    "from qiskit_nature.second_q.mappers import JordanWignerMapper, ParityMapper, BravyiKitaevMapper\n",
    "from qiskit_nature.second_q.circuit.library import UCCSD, HartreeFock\n",
    "import numpy as np\n",
    "from qiskit_algorithms import VQE\n",
    "from qiskit_algorithms.optimizers import SLSQP\n",
    "from qiskit.primitives import Estimator\n",
    "\n",
    "from qiskit_algorithms import AdaptVQE\n",
    "from qiskit_nature.second_q.algorithms import GroundStateEigensolver\n",
    "\n",
    "from qiskit_ibm_runtime import QiskitRuntimeService\n",
    "from qiskit.transpiler.preset_passmanagers import generate_preset_pass_manager"
   ]
  },
  {
   "cell_type": "markdown",
   "id": "2f071324-8a84-4717-9ca7-c9c9ed361a10",
   "metadata": {},
   "source": [
    "## Define problem with ansatz"
   ]
  },
  {
   "cell_type": "code",
   "execution_count": 6,
   "id": "a43d3d34-00ca-434f-aeca-acd256e03a5d",
   "metadata": {},
   "outputs": [],
   "source": [
    "driver = PySCFDriver(atom=\"H 0 0 0; H 0 0 0.735\", basis=\"sto-3g\")\n",
    "problem = driver.run()"
   ]
  },
  {
   "cell_type": "code",
   "execution_count": 7,
   "id": "312f8a54-954b-4af8-bd6e-01141137b81d",
   "metadata": {},
   "outputs": [],
   "source": [
    "mappers = {}\n",
    "mappers[\"JW\"] = JordanWignerMapper()\n",
    "mappers[\"Parity\"] = ParityMapper()\n",
    "mappers[\"Bravi-Kitaev\"] = BravyiKitaevMapper()"
   ]
  },
  {
   "cell_type": "markdown",
   "id": "4e79bde3-9861-4ef9-85df-226b60ae5c9d",
   "metadata": {},
   "source": [
    "## Create ansatz and transpile to ibm_torino"
   ]
  },
  {
   "cell_type": "code",
   "execution_count": 8,
   "id": "b78bce91-da92-4984-9a0f-e8f6913f2024",
   "metadata": {},
   "outputs": [],
   "source": [
    "service = QiskitRuntimeService()\n",
    "# We define a specific backend\n",
    "torino_backend = service.backend(\"ibm_torino\")\n",
    "\n",
    "seed = 43"
   ]
  },
  {
   "cell_type": "code",
   "execution_count": 10,
   "id": "0b041033-5db8-491e-9180-e1188ad219b8",
   "metadata": {},
   "outputs": [
    {
     "name": "stdout",
     "output_type": "stream",
     "text": [
      "Generating ansatz, vqe, and adapt-vqe for: JW\n",
      "\tANSATZ: Count-Ops: OrderedDict([('h', 80), ('cx', 56), ('sdg', 20), ('s', 20), ('rz', 12), ('u', 2)]) size: 190 depth = 97\n",
      "\tANSATZ transpiled: Count-Ops: OrderedDict([('u3', 271), ('u', 97), ('cx', 41)]) size: 409 depth = 304\n",
      "\n",
      "\n",
      "Generating ansatz, vqe, and adapt-vqe for: Parity\n",
      "\tANSATZ: Count-Ops: OrderedDict([('h', 38), ('cx', 38), ('sdg', 11), ('rz', 11), ('s', 11), ('u', 2), ('ry', 1)]) size: 112 depth = 83\n",
      "\tANSATZ transpiled: Count-Ops: OrderedDict([('u3', 331), ('u', 89), ('cx', 44)]) size: 464 depth = 335\n",
      "\n",
      "\n",
      "Generating ansatz, vqe, and adapt-vqe for: Bravi-Kitaev\n",
      "\tANSATZ: Count-Ops: OrderedDict([('cx', 38), ('h', 36), ('sdg', 10), ('rz', 10), ('s', 10), ('u', 3), ('ry', 2)]) size: 109 depth = 77\n",
      "\tANSATZ transpiled: Count-Ops: OrderedDict([('u3', 273), ('u', 85), ('cx', 39)]) size: 397 depth = 315\n",
      "\n",
      "\n"
     ]
    }
   ],
   "source": [
    "for key in mappers.keys():\n",
    "    print(f\"Generating ansatz, vqe, and adapt-vqe for: {key}\")\n",
    "    qubit_op = mappers[key].map(problem.second_q_ops()[0])\n",
    "    \n",
    "    ansatz = UCCSD(\n",
    "        problem.num_spatial_orbitals,\n",
    "        problem.num_particles,\n",
    "        mappers[key],\n",
    "        initial_state=HartreeFock(\n",
    "            problem.num_spatial_orbitals,\n",
    "            problem.num_particles,\n",
    "            mappers[key],\n",
    "        ),\n",
    "    )\n",
    "\n",
    "    print(f\"\\tANSATZ: Count-Ops: {ansatz.decompose().decompose().decompose().count_ops()} size: {ansatz.decompose().decompose().decompose().size()} depth = {ansatz.decompose().decompose().decompose().depth()}\")\n",
    "\n",
    "    # transpile ansatz\n",
    "    pm = generate_preset_pass_manager(\n",
    "        backend=torino_backend,\n",
    "        optimization_level=3,\n",
    "        seed_transpiler=seed,\n",
    "        layout_method=\"sabre\",\n",
    "    )\n",
    "\n",
    "    circuit_opt = pm.run(ansatz)\n",
    "    circuit_opt.draw(\"mpl\", fold=False, idle_wires=False)\n",
    "    print(f\"\\tANSATZ transpiled: Count-Ops: {circuit_opt.decompose().decompose().decompose().count_ops()} size: {circuit_opt.decompose().decompose().decompose().size()} depth = {circuit_opt.decompose().decompose().decompose().depth()}\\n\\n\")\n",
    "\n"
   ]
  },
  {
   "cell_type": "code",
   "execution_count": null,
   "id": "33b28168-73d5-4880-b823-bf7a07ca92d0",
   "metadata": {},
   "outputs": [],
   "source": []
  }
 ],
 "metadata": {
  "kernelspec": {
   "display_name": "Python 3 (ipykernel)",
   "language": "python",
   "name": "python3"
  },
  "language_info": {
   "codemirror_mode": {
    "name": "ipython",
    "version": 3
   },
   "file_extension": ".py",
   "mimetype": "text/x-python",
   "name": "python",
   "nbconvert_exporter": "python",
   "pygments_lexer": "ipython3",
   "version": "3.10.12"
  }
 },
 "nbformat": 4,
 "nbformat_minor": 5
}

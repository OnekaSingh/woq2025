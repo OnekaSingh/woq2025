{
 "cells": [
  {
   "cell_type": "markdown",
   "id": "fdcf8b4e-9c55-4c5d-9b97-1e2313933074",
   "metadata": {},
   "source": [
    "# Proof of concept\n",
    "## Get Groundstate of LiH with AdaptVqe\n",
    "- taken from: https://qiskit-community.github.io/qiskit-nature/howtos/adapt_vqe.html"
   ]
  },
  {
   "cell_type": "code",
   "execution_count": 17,
   "id": "95b6c37a-ec29-459c-9e77-3aa46350749a",
   "metadata": {},
   "outputs": [],
   "source": [
    "# imports\n",
    "from qiskit_nature.second_q.drivers import PySCFDriver\n",
    "from qiskit_nature.second_q.mappers import JordanWignerMapper\n",
    "from qiskit_nature.second_q.circuit.library import UCCSD, HartreeFock\n",
    "import numpy as np\n",
    "from qiskit_algorithms import VQE\n",
    "from qiskit_algorithms.optimizers import SLSQP\n",
    "from qiskit.primitives import Estimator\n",
    "\n",
    "from qiskit_algorithms import AdaptVQE\n",
    "from qiskit_nature.second_q.algorithms import GroundStateEigensolver\n",
    "\n",
    "import time\n",
    "from datetime import datetime"
   ]
  },
  {
   "cell_type": "markdown",
   "id": "eb89e440-73ba-42b9-a02c-e4197d12b1f7",
   "metadata": {},
   "source": [
    "## Define problem with ansatz"
   ]
  },
  {
   "cell_type": "code",
   "execution_count": 57,
   "id": "ddb307e2-c1ec-425f-97a0-d937e2403f57",
   "metadata": {},
   "outputs": [],
   "source": [
    "#driver = PySCFDriver(atom=\"H 0 0 0; H 0 0 0.735\", basis=\"sto-3g\")\n",
    "#driver = PySCFDriver(atom=\"C 0 0 -0.6025; H 0 0 -1.6691; C 0 0 0.6025; H 0 0 1.6691\", basis=\"sto-3g\")\n",
    "#driver = PySCFDriver(atom=\"O 0 0 0; H  0 1 0; H 0 0 1\", basis=\"sto-3g\")\n",
    "driver = PySCFDriver(atom=\"Li 0 0 0; H 0 0 1.5\", basis=\"sto-3g\")\n",
    "#driver = PySCFDriver(atom=\"He 0 0 0; He 0 0 0.9\", basis=\"sto-3g\")\n",
    "problem = driver.run()"
   ]
  },
  {
   "cell_type": "code",
   "execution_count": 58,
   "id": "e254dca0-e3b2-489b-bb9a-3db683e3d02c",
   "metadata": {},
   "outputs": [],
   "source": [
    "mapper = JordanWignerMapper()"
   ]
  },
  {
   "cell_type": "code",
   "execution_count": 59,
   "id": "e47387c1-94ea-4434-85d9-6349c6cf5f20",
   "metadata": {},
   "outputs": [],
   "source": [
    "ansatz = UCCSD(\n",
    "    problem.num_spatial_orbitals,\n",
    "    problem.num_particles,\n",
    "    mapper,\n",
    "    initial_state=HartreeFock(\n",
    "        problem.num_spatial_orbitals,\n",
    "        problem.num_particles,\n",
    "        mapper,\n",
    "    ),\n",
    ")"
   ]
  },
  {
   "cell_type": "code",
   "execution_count": 60,
   "id": "e4020ea2-d9e4-4e82-8fa5-fd0db8c8bbbc",
   "metadata": {},
   "outputs": [
    {
     "name": "stdout",
     "output_type": "stream",
     "text": [
      "6 (2, 2) 12\n"
     ]
    }
   ],
   "source": [
    "print(problem.num_spatial_orbitals, problem.num_particles, ansatz.width())"
   ]
  },
  {
   "cell_type": "code",
   "execution_count": 61,
   "id": "85eae774-a024-495a-b57b-86260393585d",
   "metadata": {},
   "outputs": [],
   "source": [
    "# define vqe\n",
    "vqe = VQE(Estimator(), ansatz, SLSQP())\n",
    "vqe.initial_point = np.zeros(ansatz.num_parameters)"
   ]
  },
  {
   "cell_type": "markdown",
   "id": "7b7d867f-a356-4dc8-877a-ca989e687d65",
   "metadata": {},
   "source": [
    "## implement TetrisAdaptVQE\n",
    "- according to paper:\n",
    "    Panagiotis G. Anastasiou, Yanzhu Chen, Nicholas J. Mayhall, Edwin Barnes,\n",
    "    and Sophia E. Economou.\n",
    "    TETRIS-ADAPT-VQE: An adaptive algorithm that yields shallower, denser\n",
    "    circuit ansätze\n",
    "    arXiv:2209.10562 (2022)\n",
    "- according to sandboxAQ -> Tangelo implementation"
   ]
  },
  {
   "cell_type": "code",
   "execution_count": 23,
   "id": "9febbe5b-897e-4d36-a875-905fdc478867",
   "metadata": {},
   "outputs": [],
   "source": [
    "# imports\n",
    "import logging\n",
    "\n",
    "from enum import Enum\n",
    "\n",
    "from qiskit.quantum_info.operators.base_operator import BaseOperator\n",
    "from qiskit.circuit.library import EvolvedOperatorAnsatz\n",
    "\n",
    "from qiskit_algorithms.list_or_dict import ListOrDict\n",
    "from qiskit_algorithms import AdaptVQEResult\n",
    "\n",
    "from  qiskit_algorithms.observables_evaluator import estimate_observables"
   ]
  },
  {
   "cell_type": "code",
   "execution_count": 24,
   "id": "3d30b2d6-0b98-4be4-9ad3-6c2e056ef813",
   "metadata": {},
   "outputs": [],
   "source": [
    "logger = logging.getLogger(__name__)"
   ]
  },
  {
   "cell_type": "code",
   "execution_count": 25,
   "id": "0fe63296-0e65-4b5f-b931-909e9ca7ce6f",
   "metadata": {},
   "outputs": [],
   "source": [
    "class TerminationCriterion(Enum):\n",
    "    \"\"\"A class enumerating the various finishing criteria.\"\"\"\n",
    "\n",
    "    CONVERGED = \"Threshold converged\"\n",
    "    CYCLICITY = \"Aborted due to a cyclic selection of evolution operators\"\n",
    "    MAXIMUM = \"Maximum number of iterations reached\"\n"
   ]
  },
  {
   "cell_type": "code",
   "execution_count": 26,
   "id": "2c58293b-6136-428c-86c5-67340ac41c64",
   "metadata": {},
   "outputs": [],
   "source": [
    "class TetrisAdaptVQE(AdaptVQE):\n",
    "    def compute_minimum_eigenvalue(\n",
    "        self,\n",
    "        operator: BaseOperator,\n",
    "        aux_operators: ListOrDict[BaseOperator] | None = None,\n",
    "    ) -> AdaptVQEResult:\n",
    "        \"\"\"Computes the minimum eigenvalue.\n",
    "\n",
    "        Args:\n",
    "            operator: Operator whose minimum eigenvalue we want to find.\n",
    "            aux_operators: Additional auxiliary operators to evaluate.\n",
    "\n",
    "        Raises:\n",
    "            TypeError: If an ansatz other than :class:`~.EvolvedOperatorAnsatz` is provided.\n",
    "            AlgorithmError: If all evaluated gradients lie below the convergence threshold in\n",
    "                the first iteration of the algorithm.\n",
    "\n",
    "        Returns:\n",
    "            An :class:`~.AdaptVQEResult` which is a :class:`~.VQEResult` but also but also\n",
    "            includes runtime information about the AdaptVQE algorithm like the number of iterations,\n",
    "            termination criterion, and the final maximum gradient.\n",
    "        \"\"\"\n",
    "        if not isinstance(self.solver.ansatz, EvolvedOperatorAnsatz):\n",
    "            raise TypeError(\"The AdaptVQE ansatz must be of the EvolvedOperatorAnsatz type.\")\n",
    "\n",
    "        # Overwrite the solver's ansatz with the initial state\n",
    "        self._tmp_ansatz = self.solver.ansatz\n",
    "        self._excitation_pool = self._tmp_ansatz.operators\n",
    "        self.solver.ansatz = self._tmp_ansatz.initial_state\n",
    "\n",
    "        prev_op_indices: list[int] = []\n",
    "        prev_raw_vqe_result: VQEResult | None = None\n",
    "        raw_vqe_result: VQEResult | None = None\n",
    "        theta: list[float] = []\n",
    "        max_grad: tuple[float, dict[str, BaseOperator] | None] = (0.0, None)\n",
    "        self._excitation_list = []\n",
    "        history: list[complex] = []\n",
    "        iteration = 0\n",
    "        while self.max_iterations is None or iteration < self.max_iterations:\n",
    "            iteration += 1\n",
    "            logger.info(\"--- Iteration #%s ---\", str(iteration))\n",
    "            # compute gradients\n",
    "            logger.debug(\"Computing gradients\")\n",
    "            cur_grads = self._compute_gradients(theta, operator)\n",
    "\n",
    "            max_grad_index, max_grad, pool_select = self.get_grads_and_indices(cur_grads)\n",
    "\n",
    "            ops_appended = 0 \n",
    "            \n",
    "            logger.info(\n",
    "                \"Found maximum gradient %s at index %s\",\n",
    "                str(np.abs(max_grad[0])),\n",
    "                str(max_grad_index),\n",
    "            )\n",
    "            # log gradients\n",
    "            if np.abs(max_grad[0]) < self.gradient_threshold:\n",
    "                if iteration == 1:\n",
    "                    raise AlgorithmError(\n",
    "                        \"All gradients have been evaluated to lie below the convergence threshold \"\n",
    "                        \"during the first iteration of the algorithm. Try to either tighten the \"\n",
    "                        \"convergence threshold or pick a different ansatz.\"\n",
    "                    )\n",
    "                logger.info(\n",
    "                    \"AdaptVQE terminated successfully with a final maximum gradient: %s\",\n",
    "                    str(np.abs(max_grad[0])),\n",
    "                )\n",
    "                termination_criterion = TerminationCriterion.CONVERGED\n",
    "                break\n",
    "            # store maximum gradient's index for cycle detection\n",
    "            prev_op_indices.append(max_grad_index)\n",
    "            # check indices of picked gradients for cycles\n",
    "            if self._check_cyclicity(prev_op_indices):\n",
    "                logger.info(\"Alternating sequence found. Finishing.\")\n",
    "                logger.info(\"Final maximum gradient: %s\", str(np.abs(max_grad[0])))\n",
    "                termination_criterion = TerminationCriterion.CYCLICITY\n",
    "                break\n",
    "            # add new excitation to self._ansatz\n",
    "            logger.info(\n",
    "                \"Adding new operator to the ansatz: %s\", str(self._excitation_pool[max_grad_index])\n",
    "            )\n",
    "            self._excitation_list.append(self._excitation_pool[max_grad_index])\n",
    "            theta.append(0.0)\n",
    "            ops_appended += 1\n",
    "\n",
    "            # add other circuits if any\n",
    "            if pool_select:\n",
    "                print(\"something in pool\")\n",
    "                for elem in pool_select:\n",
    "                    prev_op_indices.append(elem)\n",
    "                    # check indices of picked gradients for cycles\n",
    "                    if self._check_cyclicity(prev_op_indices):\n",
    "                        logger.info(\"Alternating sequence found. Finishing.\")\n",
    "                        logger.info(\"Final maximum gradient: %s\", str(np.abs(max_grad[0])))\n",
    "                        termination_criterion = TerminationCriterion.CYCLICITY\n",
    "                        break  \n",
    "                    # add new additional excitation to self._ansatz\n",
    "                    logger.info(\n",
    "                        \"Adding new operator to the ansatz: %s\", str(self._excitation_pool[elem])\n",
    "                    )\n",
    "                    self._excitation_list.append(self._excitation_pool[elem])\n",
    "                    theta.append(0.0)\n",
    "                    ops_appended += 1\n",
    "            \n",
    "            # setting up the ansatz for the VQE iteration\n",
    "            self._tmp_ansatz.operators = self._excitation_list\n",
    "            self.solver.ansatz = self._tmp_ansatz\n",
    "            self.solver.initial_point = np.asarray(theta)\n",
    "            # evaluating the eigenvalue with the internal VQE\n",
    "            prev_raw_vqe_result = raw_vqe_result\n",
    "            raw_vqe_result = self.solver.compute_minimum_eigenvalue(operator)\n",
    "            theta = raw_vqe_result.optimal_point.tolist()\n",
    "            # checking convergence based on the change in eigenvalue\n",
    "            if iteration > 1:\n",
    "                eigenvalue_diff = np.abs(raw_vqe_result.eigenvalue - history[-1])\n",
    "                if eigenvalue_diff < self.eigenvalue_threshold:\n",
    "                    logger.info(\n",
    "                        \"AdaptVQE terminated successfully with a final change in eigenvalue: %s\",\n",
    "                        str(eigenvalue_diff),\n",
    "                    )\n",
    "                    termination_criterion = TerminationCriterion.CONVERGED\n",
    "                    logger.debug(\n",
    "                        \"Reverting the addition of the last excitation to the ansatz since it \"\n",
    "                        \"resulted in a change of the eigenvalue below the configured threshold.\"\n",
    "                    )\n",
    "                    for i in range(ops_appended):\n",
    "                        self._excitation_list.pop()\n",
    "                        theta.pop()\n",
    "                    self._tmp_ansatz.operators = self._excitation_list\n",
    "                    self.solver.ansatz = self._tmp_ansatz\n",
    "                    self.solver.initial_point = np.asarray(theta)\n",
    "                    raw_vqe_result = prev_raw_vqe_result\n",
    "                    break\n",
    "            # appending the computed eigenvalue to the tracking history\n",
    "            history.append(raw_vqe_result.eigenvalue)\n",
    "            logger.info(\"Current eigenvalue: %s\", str(raw_vqe_result.eigenvalue))\n",
    "        else:\n",
    "            # reached maximum number of iterations\n",
    "            termination_criterion = TerminationCriterion.MAXIMUM\n",
    "            logger.info(\"Maximum number of iterations reached. Finishing.\")\n",
    "            logger.info(\"Final maximum gradient: %s\", str(np.abs(max_grad[0])))\n",
    "\n",
    "        result = AdaptVQEResult()\n",
    "        result.combine(raw_vqe_result)\n",
    "        result.num_iterations = iteration\n",
    "        result.final_max_gradient = max_grad[0]\n",
    "        result.termination_criterion = termination_criterion  # type: ignore[assignment]\n",
    "        result.eigenvalue_history = history\n",
    "\n",
    "        # once finished evaluate auxiliary operators if any\n",
    "        if aux_operators is not None:\n",
    "            aux_values = estimate_observables(\n",
    "                self.solver.estimator,\n",
    "                self.solver.ansatz,\n",
    "                aux_operators,\n",
    "                result.optimal_point,  # type: ignore[arg-type]\n",
    "            )\n",
    "            result.aux_operators_evaluated = aux_values  # type: ignore[assignment]\n",
    "\n",
    "        logger.info(\"The final eigenvalue is: %s\", str(result.eigenvalue))\n",
    "        self.solver.ansatz.operators = self._excitation_pool\n",
    "        return result\n",
    "\n",
    "    def get_grads_and_indices(self, gradients):\n",
    "        # pick maximum gradient\n",
    "        max_grad_index, max_grad = max(  # type: ignore[assignment]\n",
    "            enumerate(gradients),\n",
    "            # mypy <= 1.10 needs call-overload, for 1.11 its arg-type to suppress the error\n",
    "            # below then the other is seen as unused hence the additional unused-ignore\n",
    "            key=lambda item: np.abs(\n",
    "                item[1][0]  # type: ignore[arg-type, unused-ignore]\n",
    "            ),  # type: ignore[call-overload, unused-ignore]\n",
    "        )\n",
    "\n",
    "        # Sorting the pool operators according to the gradients.\n",
    "        sorted_op_indices = sorted(range(len(gradients)), key=lambda k: gradients[k][0])\n",
    "\n",
    "        qubit_indices = set(range(self._tmp_ansatz.width()))\n",
    "        op_indices_to_add = list()\n",
    "        \n",
    "        for i in sorted_op_indices[::-1]:\n",
    "            #print(i, gradients[i][0], self.gradient_threshold)\n",
    "            # If gradient is lower than the tolerance, all the remaining\n",
    "            # operators have a lower gradient also. If there is no \"available\"\n",
    "            # qubit anymore, no more operator can be added.\n",
    "            if np.abs(gradients[i][0]) < self.gradient_threshold or len(qubit_indices) == 0:\n",
    "                break\n",
    "\n",
    "            op_indices = set(range(self._excitation_pool[i].num_qubits))\n",
    "            #print(\"here\", op_indices)\n",
    "\n",
    "            # If the operator acts on a subset of \"available\" qubits, it can be\n",
    "            # considered for this ADAPT cycle. Those qubit indices are then\n",
    "            # removed from consideration for this ADAPT cycle.\n",
    "            if op_indices.issubset(qubit_indices):\n",
    "                qubit_indices -= op_indices\n",
    "                op_indices_to_add.append(i)\n",
    "        \n",
    "        return sorted_op_indices[0], gradients[sorted_op_indices[0]], op_indices_to_add\n"
   ]
  },
  {
   "cell_type": "markdown",
   "id": "0a193877-21d9-41ef-a3cc-c170dcd2202a",
   "metadata": {},
   "source": [
    "## now setup AdaptVQE"
   ]
  },
  {
   "cell_type": "code",
   "execution_count": 27,
   "id": "4cdac372-3959-44fa-9acc-ba33defd0c65",
   "metadata": {},
   "outputs": [],
   "source": [
    "tetris_adapt_vqe = TetrisAdaptVQE(vqe)\n",
    "tetris_adapt_vqe.supports_aux_operators = lambda: True  # temporary fix"
   ]
  },
  {
   "cell_type": "markdown",
   "id": "126586b8-57d5-4131-8cc5-84ca8bf7944f",
   "metadata": {},
   "source": [
    "## Now get some results for TetrisAdaptVQE"
   ]
  },
  {
   "cell_type": "code",
   "execution_count": 28,
   "id": "b786908f-4364-4616-9d68-3ec3cabf084b",
   "metadata": {},
   "outputs": [],
   "source": [
    "solver = GroundStateEigensolver(mapper, tetris_adapt_vqe)"
   ]
  },
  {
   "cell_type": "code",
   "execution_count": 29,
   "id": "d43f414c-bf9b-4361-8f92-3d30f5854cef",
   "metadata": {},
   "outputs": [
    {
     "name": "stdout",
     "output_type": "stream",
     "text": [
      "something in pool\n",
      "something in pool\n",
      "something in pool\n",
      "something in pool\n",
      "something in pool\n",
      "something in pool\n",
      "something in pool\n",
      "something in pool\n",
      "something in pool\n",
      "something in pool\n",
      "something in pool\n",
      "something in pool\n",
      "Code execution time [sec]: 1493.7961044311523\n",
      "Total ground state energy = -7.8820\n"
     ]
    }
   ],
   "source": [
    "start = time.time()\n",
    "result = solver.solve(problem)\n",
    "end = time.time()\n",
    "# print execution time\n",
    "print('Code execution time [sec]:', end - start)\n",
    "print(f\"Total ground state energy = {result.total_energies[0]:.4f}\")"
   ]
  },
  {
   "cell_type": "markdown",
   "id": "e7ef4793-9339-44e7-8223-74eaa7cc6fac",
   "metadata": {},
   "source": [
    "## Now get some results for AdaptVQE"
   ]
  },
  {
   "cell_type": "code",
   "execution_count": 14,
   "id": "4049547a-cacb-49ab-a2d4-88858cf672e4",
   "metadata": {},
   "outputs": [],
   "source": [
    "adapt_vqe = AdaptVQE(vqe)\n",
    "adapt_vqe.supports_aux_operators = lambda: True  # temporary fix"
   ]
  },
  {
   "cell_type": "code",
   "execution_count": 15,
   "id": "f635a015-5217-4fb6-aa1f-2624c738c388",
   "metadata": {},
   "outputs": [],
   "source": [
    "solver = GroundStateEigensolver(mapper, adapt_vqe)"
   ]
  },
  {
   "cell_type": "code",
   "execution_count": 16,
   "id": "e437f91d-d76e-487c-9eee-b3ceaa566d18",
   "metadata": {},
   "outputs": [
    {
     "name": "stdout",
     "output_type": "stream",
     "text": [
      "Code execution time [sec]: 1257.5359916687012\n",
      "Total ground state energy = -7.8820\n"
     ]
    }
   ],
   "source": [
    "start = time.time()\n",
    "result = solver.solve(problem)\n",
    "end = time.time()\n",
    "# print execution time\n",
    "print('Code execution time [sec]:', end - start)\n",
    "print(f\"Total ground state energy = {result.total_energies[0]:.4f}\")"
   ]
  },
  {
   "cell_type": "markdown",
   "id": "5c7862aa-a535-42c7-b8e0-f22b992c5031",
   "metadata": {},
   "source": [
    "## Implement StatefullAdaptVQE -> from qiskit_nature_cp2k"
   ]
  },
  {
   "cell_type": "code",
   "execution_count": 62,
   "id": "b3c0b43d-cf75-4149-9314-fc3fb45ab5d4",
   "metadata": {},
   "outputs": [],
   "source": [
    "def depth_filter(param):\n",
    "    inst, qubits, clbits = param\n",
    "    return inst.num_qubits == 2"
   ]
  },
  {
   "cell_type": "code",
   "execution_count": 63,
   "id": "f8425e7a-fe6a-40a1-8746-7069ae6a0fc1",
   "metadata": {},
   "outputs": [],
   "source": [
    "class StatefulAdaptVQE(AdaptVQE):\n",
    "    \"\"\"A stateful AdaptVQE variant.\"\"\"\n",
    "\n",
    "    def compute_minimum_eigenvalue(\n",
    "        self, operator, aux_operators=None\n",
    "    ) -> AdaptVQEResult:\n",
    "        if not isinstance(self.solver.ansatz, EvolvedOperatorAnsatz) and not isinstance(self._tmp_ansatz, EvolvedOperatorAnsatz):\n",
    "            raise TypeError(\n",
    "                \"The AdaptVQE ansatz must be of the EvolvedOperatorAnsatz type.\"\n",
    "            )\n",
    "\n",
    "        if self._tmp_ansatz is None:\n",
    "            # Overwrite the solver's ansatz with the initial state\n",
    "            self._tmp_ansatz = self.solver.ansatz\n",
    "            self._excitation_pool = self._tmp_ansatz.operators\n",
    "            self.solver.ansatz = self._tmp_ansatz.initial_state\n",
    "            self._theta: list[float] = []\n",
    "            self._excitation_list = []\n",
    "            self._global_iteration = 1\n",
    "            self._prev_op_indices: list[int] = []\n",
    "            self._history: list[complex] = []\n",
    "            self._prev_raw_vqe_result: VQEResult | None = None\n",
    "        else:\n",
    "            if len(self._excitation_list) == 0:\n",
    "                self.solver.ansatz = self._tmp_ansatz.initial_state\n",
    "            else:\n",
    "                self.solver.ansatz = self._tmp_ansatz\n",
    "                self.solver.initial_point = self._theta\n",
    "            self._global_iteration += 1\n",
    "\n",
    "        raw_vqe_result: VQEResult | None = None\n",
    "        max_grad: tuple[complex, dict[str, Any] | None] = (0.0, None)\n",
    "        iteration = 0\n",
    "        while self.max_iterations is None or iteration < self.max_iterations:\n",
    "            iteration += 1\n",
    "            logger.info(\"--- Iteration #%s ---\", str(iteration))\n",
    "            # compute gradients\n",
    "            logger.debug(\"Computing gradients\")\n",
    "            cur_grads = self._compute_gradients(self._theta, operator)\n",
    "            # pick maximum gradient\n",
    "            max_grad_index, max_grad = max(\n",
    "                enumerate(cur_grads), key=lambda item: np.abs(item[1][0])\n",
    "            )\n",
    "            logger.info(\n",
    "                \"Found maximum gradient %s at index %s\",\n",
    "                str(np.abs(max_grad[0])),\n",
    "                str(max_grad_index),\n",
    "            )\n",
    "            # log gradients\n",
    "            if np.abs(max_grad[0]) < self.gradient_threshold:\n",
    "                if iteration == 1 and self._global_iteration == 1:\n",
    "                    logger.warning(\n",
    "                        \"All gradients have been evaluated to lie below the convergence threshold \"\n",
    "                        \"during the first iteration of the algorithm. Try to either tighten the \"\n",
    "                        \"convergence threshold or pick a different ansatz.\"\n",
    "                    )\n",
    "                    raw_vqe_result = self.solver.compute_minimum_eigenvalue(operator)\n",
    "                    # store this current VQE result for the potential stateful restart later on\n",
    "                    self._prev_raw_vqe_result = raw_vqe_result\n",
    "                    self._theta = raw_vqe_result.optimal_point\n",
    "                    termination_criterion = TerminationCriterion.CONVERGED\n",
    "                    break\n",
    "                logger.info(\n",
    "                    \"AdaptVQE terminated successfully with a final maximum gradient: %s\",\n",
    "                    str(np.abs(max_grad[0])),\n",
    "                )\n",
    "                termination_criterion = TerminationCriterion.CONVERGED\n",
    "                break\n",
    "            # store maximum gradient's index for cycle detection\n",
    "            self._prev_op_indices.append(max_grad_index)\n",
    "            # check indices of picked gradients for cycles\n",
    "            if self._check_cyclicity(self._prev_op_indices):\n",
    "                logger.info(\"Alternating sequence found. Finishing.\")\n",
    "                logger.info(\"Final maximum gradient: %s\", str(np.abs(max_grad[0])))\n",
    "                termination_criterion = TerminationCriterion.CYCLICITY\n",
    "                break\n",
    "            # add new excitation to self._ansatz\n",
    "            logger.info(\n",
    "                \"Adding new operator to the ansatz: %s\",\n",
    "                str(self._excitation_pool[max_grad_index]),\n",
    "            )\n",
    "            self._excitation_list.append(self._excitation_pool[max_grad_index])\n",
    "            self._theta.append(0.0)\n",
    "            # setting up the ansatz for the VQE iteration\n",
    "            self._tmp_ansatz.operators = self._excitation_list\n",
    "            self.solver.ansatz = self._tmp_ansatz\n",
    "            self.solver.initial_point = self._theta\n",
    "            # evaluating the eigenvalue with the internal VQE\n",
    "            self._prev_raw_vqe_result = raw_vqe_result\n",
    "            raw_vqe_result = self.solver.compute_minimum_eigenvalue(operator)\n",
    "            self._theta = raw_vqe_result.optimal_point.tolist()\n",
    "            # checking convergence based on the change in eigenvalue\n",
    "            if iteration > 1:\n",
    "                eigenvalue_diff = np.abs(raw_vqe_result.eigenvalue - self._history[-1])\n",
    "                if eigenvalue_diff < self.eigenvalue_threshold:\n",
    "                    logger.info(\n",
    "                        \"AdaptVQE terminated successfully with a final change in eigenvalue: %s\",\n",
    "                        str(eigenvalue_diff),\n",
    "                    )\n",
    "                    termination_criterion = TerminationCriterion.CONVERGED\n",
    "                    logger.debug(\n",
    "                        \"Reverting the addition of the last excitation to the ansatz since it \"\n",
    "                        \"resulted in a change of the eigenvalue below the configured threshold.\"\n",
    "                    )\n",
    "                    self._excitation_list.pop()\n",
    "                    self._theta.pop()\n",
    "                    self._tmp_ansatz.operators = self._excitation_list\n",
    "                    self.solver.ansatz = self._tmp_ansatz\n",
    "                    self.solver.initial_point = self._theta\n",
    "                    raw_vqe_result = self._prev_raw_vqe_result\n",
    "                    break\n",
    "            # appending the computed eigenvalue to the tracking history\n",
    "            self._history.append(raw_vqe_result.eigenvalue)\n",
    "            logger.info(\"Current eigenvalue: %s\", str(raw_vqe_result.eigenvalue))\n",
    "        else:\n",
    "            # reached maximum number of iterations\n",
    "            self._prev_raw_vqe_result = raw_vqe_result\n",
    "            termination_criterion = TerminationCriterion.MAXIMUM\n",
    "            logger.info(\"Maximum number of iterations reached. Finishing.\")\n",
    "            logger.info(\"Final maximum gradient: %s\", str(np.abs(max_grad[0])))\n",
    "\n",
    "        if raw_vqe_result is None:\n",
    "            raw_vqe_result = self._prev_raw_vqe_result\n",
    "        result = AdaptVQEResult()\n",
    "        result.combine(raw_vqe_result)\n",
    "        result.num_iterations = iteration\n",
    "        result.final_max_gradient = max_grad[0]\n",
    "        result.termination_criterion = termination_criterion\n",
    "        result.eigenvalue_history = self._history\n",
    "\n",
    "        # once finished evaluate auxiliary operators if any\n",
    "        if aux_operators is not None:\n",
    "            aux_values = estimate_observables(\n",
    "                self.solver.estimator,\n",
    "                self.solver.ansatz,\n",
    "                aux_operators,\n",
    "                result.optimal_point,\n",
    "            )\n",
    "            result.aux_operators_evaluated = aux_values\n",
    "\n",
    "        logger.info(\"The final eigenvalue is: %s\", str(result.eigenvalue))\n",
    "        decomposed = self.solver.ansatz.decompose().decompose().decompose()\n",
    "        logger.info(f\"The current circuit has the following gates: %s\", str(decomposed.count_ops()))\n",
    "        logger.info(f\"The current circuit has a depth of %s\", str(decomposed.depth()))\n",
    "        logger.info(f\"The current circuit has a 2-qubit gate depth of %s\", str(decomposed.depth(depth_filter)))\n",
    "        logger.info(f\"The current circuit has %s paramters\", str(decomposed.num_parameters))\n",
    "        return result "
   ]
  },
  {
   "cell_type": "markdown",
   "id": "89a26a12-38ca-40e1-b0a5-4d902fb8f00b",
   "metadata": {},
   "source": [
    "## Now get some results from StatefullAdaptVQE"
   ]
  },
  {
   "cell_type": "code",
   "execution_count": 64,
   "id": "2a7b1be9-185f-4d49-8325-29236dbf8564",
   "metadata": {},
   "outputs": [],
   "source": [
    "stateful_adapt_vqe = StatefulAdaptVQE(\n",
    "    vqe,           \n",
    "    eigenvalue_threshold=1e-4, #1e-6      \n",
    "    gradient_threshold=1e-4,       \n",
    "    max_iterations=20,\n",
    ")\n",
    "stateful_adapt_vqe.supports_aux_operators = lambda: True # temporary Fix"
   ]
  },
  {
   "cell_type": "code",
   "execution_count": 65,
   "id": "cae4d4f9-5d6b-452b-89f6-4dd175c2d75f",
   "metadata": {},
   "outputs": [],
   "source": [
    "solver = GroundStateEigensolver(mapper, stateful_adapt_vqe)"
   ]
  },
  {
   "cell_type": "code",
   "execution_count": 66,
   "id": "316a4e8f-763d-4dd6-93e6-9f09a6fe7aac",
   "metadata": {},
   "outputs": [
    {
     "name": "stdout",
     "output_type": "stream",
     "text": [
      "Code execution time [sec]: 272.2553725242615\n",
      "Total ground state energy = -7.8802\n"
     ]
    }
   ],
   "source": [
    "start = time.time()\n",
    "result = solver.solve(problem)\n",
    "end = time.time()\n",
    "# print execution time\n",
    "print('Code execution time [sec]:', end - start)\n",
    "print(f\"Total ground state energy = {result.total_energies[0]:.4f}\")"
   ]
  },
  {
   "cell_type": "code",
   "execution_count": null,
   "id": "1bcaf58c-0b40-4764-b4ba-f02c8674ea75",
   "metadata": {},
   "outputs": [],
   "source": []
  }
 ],
 "metadata": {
  "kernelspec": {
   "display_name": "Python 3 (ipykernel)",
   "language": "python",
   "name": "python3"
  },
  "language_info": {
   "codemirror_mode": {
    "name": "ipython",
    "version": 3
   },
   "file_extension": ".py",
   "mimetype": "text/x-python",
   "name": "python",
   "nbconvert_exporter": "python",
   "pygments_lexer": "ipython3",
   "version": "3.10.12"
  }
 },
 "nbformat": 4,
 "nbformat_minor": 5
}

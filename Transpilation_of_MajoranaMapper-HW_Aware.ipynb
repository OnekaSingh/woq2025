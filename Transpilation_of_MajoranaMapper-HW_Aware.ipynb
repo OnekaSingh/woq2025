{
 "cells": [
  {
   "cell_type": "markdown",
   "id": "28f195c2-ea49-4ede-93c7-1aa3d4fd9b29",
   "metadata": {},
   "source": [
    "# Use own MajoranaMapping and Transpile circuit"
   ]
  },
  {
   "cell_type": "code",
   "execution_count": 1,
   "id": "ee711dbe-7022-4c04-8ee0-12f1b97e009a",
   "metadata": {},
   "outputs": [],
   "source": [
    "# imports\n",
    "from __future__ import annotations\n",
    "\n",
    "from functools import lru_cache\n",
    "\n",
    "import numpy as np\n",
    "\n",
    "from qiskit.quantum_info.operators import Pauli\n",
    "\n",
    "from qiskit_nature.second_q.mappers.fermionic_mapper import FermionicMapper\n",
    "\n",
    "from qiskit_nature.second_q.drivers import PySCFDriver\n",
    "from qiskit_nature.second_q.mappers import JordanWignerMapper, ParityMapper, BravyiKitaevMapper\n",
    "from qiskit_nature.second_q.circuit.library import UCCSD, HartreeFock\n",
    "import numpy as np\n",
    "from qiskit_algorithms import VQE\n",
    "from qiskit_algorithms.optimizers import SLSQP\n",
    "from qiskit.primitives import Estimator\n",
    "\n",
    "from qiskit_algorithms import AdaptVQE\n",
    "from qiskit_nature.second_q.algorithms import GroundStateEigensolver\n",
    "\n",
    "from qiskit_ibm_runtime import QiskitRuntimeService\n",
    "from qiskit.transpiler.preset_passmanagers import generate_preset_pass_manager\n",
    "\n",
    "import time"
   ]
  },
  {
   "cell_type": "code",
   "execution_count": 2,
   "id": "464e9a26-2152-4e43-9778-505f9ae69b66",
   "metadata": {},
   "outputs": [],
   "source": [
    "# imports for majorana mapping calculation\n",
    "%load_ext autoreload\n",
    "%autoreload 2\n",
    "\n",
    "from fermionic_mappings import bk_majoranas\n",
    "from electronic_hamiltonian import quadratic_terms\n",
    "from qiskit.quantum_info import PauliList\n",
    "from tableau import spread_node, spread_node_slice, anticommutation_matrix\n",
    "import random\n",
    "from cost_functions import weight, quadratic_term_mean_weight, compute_cost_pauliString_circuitCoupling\n",
    "from annealing import anneal\n",
    "import matplotlib.pyplot as plt"
   ]
  },
  {
   "cell_type": "markdown",
   "id": "2f071324-8a84-4717-9ca7-c9c9ed361a10",
   "metadata": {},
   "source": [
    "## Define problem with ansatz"
   ]
  },
  {
   "cell_type": "code",
   "execution_count": 3,
   "id": "a43d3d34-00ca-434f-aeca-acd256e03a5d",
   "metadata": {},
   "outputs": [],
   "source": [
    "driver_h2o = PySCFDriver(atom=\"O 0.0 0.0 0.0; H 0.757 0.586 0.0; H -0.757 0.586 0.0\", basis=\"sto-3g\")\n",
    "problem_h2o = driver_h2o.run()\n",
    "\n",
    "driver_lih = PySCFDriver(atom=\"Li 0 0 0; H 0 0 1.5\", basis=\"sto-3g\")\n",
    "problem_lih = driver_lih.run()\n",
    "\n",
    "driver_h2 = PySCFDriver(atom=\"H 0 0 0; H 0 0 0.735\", basis=\"sto-3g\")\n",
    "problem_h2 = driver_h2.run()"
   ]
  },
  {
   "cell_type": "markdown",
   "id": "e3743fcf-2ae7-4dff-bea6-8f1bd7fc5574",
   "metadata": {},
   "source": [
    "## Build MajoranaMapper"
   ]
  },
  {
   "cell_type": "code",
   "execution_count": 47,
   "id": "aed13f01-ef19-44cc-890e-40430e2ca3f6",
   "metadata": {},
   "outputs": [],
   "source": [
    "\"\"\"The Majorana Mapper. \"\"\"\n",
    "n = 0\n",
    "def set_n(new_n):\n",
    "    global n \n",
    "    n = new_n\n",
    "\n",
    "def obtain_n():\n",
    "    return n\n",
    "    \n",
    "\n",
    "class MajoranaMapper(FermionicMapper):\n",
    "    \"\"\"The Majorana fermion-to-qubit mapping.\"\"\"\n",
    "    \n",
    "    @classmethod\n",
    "    @lru_cache(maxsize=32)\n",
    "    def pauli_table(cls, register_length: int) -> list[tuple[Pauli, Pauli]]:\n",
    "        # pylint: disable=unused-argument\n",
    "        pauli_table = []\n",
    "\n",
    "        N = obtain_n()\n",
    "        print(\"Num qubits: \", N)\n",
    "\n",
    "        # obtain majorana paulis for problem instance\n",
    "        x, z ,_= bk_majoranas(N)\n",
    "            \n",
    "        # x, z, energies, energy_opt = anneal(x, z, explore=spread_node, energy=quadratic_term_mean_weight, cooling_rate=0.99995)\n",
    "        x, z, energies, energy_opt = anneal(x, z, explore=spread_node, energy=compute_cost_pauliString_circuitCoupling, cooling_rate=0.9995)\n",
    "        \n",
    "        \n",
    "        paulis = PauliList.from_symplectic(z, x)\n",
    "        #print(paulis)\n",
    "        \n",
    "        for i in range(int(len(paulis)//2)):\n",
    "            pauli_table.append((paulis[i], paulis[int(len(paulis)//2+i)]))\n",
    "\n",
    "        #print(pauli_table)\n",
    "\n",
    "        # PauliList has the phase information.\n",
    "        # Here, phase is unnecessary, so the following removes phase.\n",
    "        for pauli1, pauli2 in pauli_table:\n",
    "            pauli1.phase = 0\n",
    "            pauli2.phase = 0\n",
    "        return pauli_table"
   ]
  },
  {
   "cell_type": "markdown",
   "id": "3c860ed5-a8d5-4bee-a675-ac9683496054",
   "metadata": {},
   "source": [
    "## Add Mapping"
   ]
  },
  {
   "cell_type": "code",
   "execution_count": 48,
   "id": "312f8a54-954b-4af8-bd6e-01141137b81d",
   "metadata": {},
   "outputs": [],
   "source": [
    "mappers = {}\n",
    "mappers[\"JW\"] = JordanWignerMapper()\n",
    "#mappers[\"Parity\"] = ParityMapper()\n",
    "mappers[\"Bravi-Kitaev\"] = BravyiKitaevMapper()\n",
    "mappers[\"Majorana\"] = MajoranaMapper()"
   ]
  },
  {
   "cell_type": "markdown",
   "id": "4e79bde3-9861-4ef9-85df-226b60ae5c9d",
   "metadata": {},
   "source": [
    "## Create ansatz and transpile to ibm_torino"
   ]
  },
  {
   "cell_type": "code",
   "execution_count": 49,
   "id": "b78bce91-da92-4984-9a0f-e8f6913f2024",
   "metadata": {},
   "outputs": [],
   "source": [
    "# QiskitRuntimeService.save_account(channel=\"ibm_quantum\", token=\"03f980de3079f51ce8bb9dfae5a436674ad63137bd194a0c1fe78f9572089bc2cf73549b2b183f038cd1dad3015cbdf8e9bc127301a282c77253ac77251daf12\", set_as_default=True, overwrite=True)\n",
    "# service = QiskitRuntimeService()\n",
    "# We define a specific backend\n",
    "from qiskit_ibm_runtime.fake_provider import FakeTorino\n",
    "#torino_backend = service.backend(\"ibm_torino\")\n",
    "torino_backend = FakeTorino()\n",
    "seed = 43"
   ]
  },
  {
   "cell_type": "code",
   "execution_count": 60,
   "id": "0b041033-5db8-491e-9180-e1188ad219b8",
   "metadata": {},
   "outputs": [],
   "source": [
    "def obtain_resources(problem):   \n",
    "    for key in mappers.keys():\n",
    "        print(f\"Generating ansatz and transpiled ansatz for: {key}\")\n",
    "        if key == \"Majorana\":\n",
    "            set_n(2*problem.num_spatial_orbitals)\n",
    "\n",
    "        qubit_op = mappers[key].map(problem.second_q_ops()[0])\n",
    "    \n",
    "        ansatz = UCCSD(\n",
    "            problem.num_spatial_orbitals,\n",
    "            problem.num_particles,\n",
    "            mappers[key],\n",
    "            initial_state=HartreeFock(\n",
    "                problem.num_spatial_orbitals,\n",
    "                problem.num_particles,\n",
    "                mappers[key],\n",
    "            ),\n",
    "        )\n",
    "\n",
    "        print(f\"\\tANSATZ: Count-Ops: {ansatz.decompose().decompose().decompose().count_ops()} size: {ansatz.decompose().decompose().decompose().size()} depth = {ansatz.decompose().decompose().decompose().depth()}\")\n",
    "\n",
    "        # transpile ansatz\n",
    "        pm = generate_preset_pass_manager(\n",
    "            backend=torino_backend,\n",
    "            optimization_level=3,\n",
    "            seed_transpiler=seed,\n",
    "            layout_method=\"sabre\",\n",
    "        )\n",
    "\n",
    "        start = time.time()\n",
    "        circuit_opt = pm.run(ansatz)\n",
    "        end = time.time()\n",
    "        elapsed_seconds = end - start\n",
    "        circuit_opt.draw(\"mpl\", fold=False, idle_wires=False)\n",
    "        print(f\"\\tANSATZ transpilation took: {elapsed_seconds:.2f}\")\n",
    "        print(f\"\\tANSATZ transpiled: Count-Ops: {circuit_opt.decompose().decompose().decompose().count_ops()} size: {circuit_opt.decompose().decompose().decompose().size()} depth = {circuit_opt.decompose().decompose().decompose().depth()}\\n\\n\")"
   ]
  },
  {
   "cell_type": "code",
   "execution_count": 61,
   "id": "a7f8cfb7-2467-4002-9879-e0471a480fb5",
   "metadata": {},
   "outputs": [
    {
     "name": "stdout",
     "output_type": "stream",
     "text": [
      "Generating ansatz and transpiled ansatz for: JW\n",
      "\tANSATZ: Count-Ops: OrderedDict({'h': 80, 'cx': 56, 'sdg': 20, 's': 20, 'rz': 12, 'u': 2}) size: 190 depth = 97\n",
      "\tANSATZ transpilation took: 0.09\n",
      "\tANSATZ transpiled: Count-Ops: OrderedDict({'u3': 271, 'u': 97, 'cx': 41}) size: 409 depth = 304\n",
      "\n",
      "\n",
      "Generating ansatz and transpiled ansatz for: Bravi-Kitaev\n",
      "\tANSATZ: Count-Ops: OrderedDict({'cx': 38, 'h': 36, 'sdg': 10, 'rz': 10, 's': 10, 'u': 3, 'ry': 2}) size: 109 depth = 77\n",
      "\tANSATZ transpilation took: 0.07\n",
      "\tANSATZ transpiled: Count-Ops: OrderedDict({'u3': 273, 'u': 85, 'cx': 39}) size: 397 depth = 315\n",
      "\n",
      "\n",
      "Generating ansatz and transpiled ansatz for: Majorana\n",
      "\tANSATZ: Count-Ops: OrderedDict({'cx': 40, 'h': 32, 'rz': 8, 'sdg': 4, 's': 4, 'ryy': 4, 'u': 2}) size: 94 depth = 68\n",
      "\tANSATZ transpilation took: 0.07\n",
      "\tANSATZ transpiled: Count-Ops: OrderedDict({'u3': 394, 'u': 105, 'cx': 56}) size: 555 depth = 375\n",
      "\n",
      "\n"
     ]
    }
   ],
   "source": [
    "# proof of concept\n",
    "obtain_resources(problem_h2)"
   ]
  },
  {
   "cell_type": "code",
   "execution_count": 99,
   "id": "580146b9-9ce5-4016-b975-f187345d1194",
   "metadata": {},
   "outputs": [
    {
     "name": "stdout",
     "output_type": "stream",
     "text": [
      "Generating ansatz and transpiled ansatz for: JW\n",
      "\tANSATZ: Count-Ops: OrderedDict({'cx': 14360, 'h': 7840, 'sdg': 1960, 's': 1960, 'rz': 1000, 'u': 10}) size: 27130 depth = 18014\n"
     ]
    },
    {
     "ename": "KeyboardInterrupt",
     "evalue": "",
     "output_type": "error",
     "traceback": [
      "\u001b[31m---------------------------------------------------------------------------\u001b[39m",
      "\u001b[31mKeyboardInterrupt\u001b[39m                         Traceback (most recent call last)",
      "\u001b[36mCell\u001b[39m\u001b[36m \u001b[39m\u001b[32mIn[99]\u001b[39m\u001b[32m, line 1\u001b[39m\n\u001b[32m----> \u001b[39m\u001b[32m1\u001b[39m \u001b[43mobtain_resources\u001b[49m\u001b[43m(\u001b[49m\u001b[43mproblem_h2o\u001b[49m\u001b[43m)\u001b[49m\n",
      "\u001b[36mCell\u001b[39m\u001b[36m \u001b[39m\u001b[32mIn[97]\u001b[39m\u001b[32m, line 31\u001b[39m, in \u001b[36mobtain_resources\u001b[39m\u001b[34m(problem)\u001b[39m\n\u001b[32m     23\u001b[39m pm = generate_preset_pass_manager(\n\u001b[32m     24\u001b[39m     backend=torino_backend,\n\u001b[32m     25\u001b[39m     optimization_level=\u001b[32m3\u001b[39m,\n\u001b[32m     26\u001b[39m     seed_transpiler=seed,\n\u001b[32m     27\u001b[39m     layout_method=\u001b[33m\"\u001b[39m\u001b[33msabre\u001b[39m\u001b[33m\"\u001b[39m,\n\u001b[32m     28\u001b[39m )\n\u001b[32m     30\u001b[39m start = time.time()\n\u001b[32m---> \u001b[39m\u001b[32m31\u001b[39m circuit_opt = \u001b[43mpm\u001b[49m\u001b[43m.\u001b[49m\u001b[43mrun\u001b[49m\u001b[43m(\u001b[49m\u001b[43mansatz\u001b[49m\u001b[43m)\u001b[49m\n\u001b[32m     32\u001b[39m end = time.time()\n\u001b[32m     33\u001b[39m elapsed_seconds = end - start\n",
      "\u001b[36mFile \u001b[39m\u001b[32m~/Desktop/woq/venv_woq/lib/python3.12/site-packages/qiskit/transpiler/passmanager.py:440\u001b[39m, in \u001b[36mStagedPassManager.run\u001b[39m\u001b[34m(self, circuits, output_name, callback, num_processes)\u001b[39m\n\u001b[32m    432\u001b[39m \u001b[38;5;28;01mdef\u001b[39;00m\u001b[38;5;250m \u001b[39m\u001b[34mrun\u001b[39m(\n\u001b[32m    433\u001b[39m     \u001b[38;5;28mself\u001b[39m,\n\u001b[32m    434\u001b[39m     circuits: _CircuitsT,\n\u001b[32m   (...)\u001b[39m\u001b[32m    437\u001b[39m     num_processes: \u001b[38;5;28mint\u001b[39m = \u001b[38;5;28;01mNone\u001b[39;00m,\n\u001b[32m    438\u001b[39m ) -> _CircuitsT:\n\u001b[32m    439\u001b[39m     \u001b[38;5;28mself\u001b[39m._update_passmanager()\n\u001b[32m--> \u001b[39m\u001b[32m440\u001b[39m     \u001b[38;5;28;01mreturn\u001b[39;00m \u001b[38;5;28;43msuper\u001b[39;49m\u001b[43m(\u001b[49m\u001b[43m)\u001b[49m\u001b[43m.\u001b[49m\u001b[43mrun\u001b[49m\u001b[43m(\u001b[49m\u001b[43mcircuits\u001b[49m\u001b[43m,\u001b[49m\u001b[43m \u001b[49m\u001b[43moutput_name\u001b[49m\u001b[43m,\u001b[49m\u001b[43m \u001b[49m\u001b[43mcallback\u001b[49m\u001b[43m,\u001b[49m\u001b[43m \u001b[49m\u001b[43mnum_processes\u001b[49m\u001b[43m=\u001b[49m\u001b[43mnum_processes\u001b[49m\u001b[43m)\u001b[49m\n",
      "\u001b[36mFile \u001b[39m\u001b[32m~/Desktop/woq/venv_woq/lib/python3.12/site-packages/qiskit/transpiler/passmanager.py:463\u001b[39m, in \u001b[36m_replace_error.<locals>.wrapper\u001b[39m\u001b[34m(*meth_args, **meth_kwargs)\u001b[39m\n\u001b[32m    460\u001b[39m \u001b[38;5;129m@wraps\u001b[39m(meth)\n\u001b[32m    461\u001b[39m \u001b[38;5;28;01mdef\u001b[39;00m\u001b[38;5;250m \u001b[39m\u001b[34mwrapper\u001b[39m(*meth_args, **meth_kwargs):\n\u001b[32m    462\u001b[39m     \u001b[38;5;28;01mtry\u001b[39;00m:\n\u001b[32m--> \u001b[39m\u001b[32m463\u001b[39m         \u001b[38;5;28;01mreturn\u001b[39;00m \u001b[43mmeth\u001b[49m\u001b[43m(\u001b[49m\u001b[43m*\u001b[49m\u001b[43mmeth_args\u001b[49m\u001b[43m,\u001b[49m\u001b[43m \u001b[49m\u001b[43m*\u001b[49m\u001b[43m*\u001b[49m\u001b[43mmeth_kwargs\u001b[49m\u001b[43m)\u001b[49m\n\u001b[32m    464\u001b[39m     \u001b[38;5;28;01mexcept\u001b[39;00m PassManagerError \u001b[38;5;28;01mas\u001b[39;00m ex:\n\u001b[32m    465\u001b[39m         \u001b[38;5;28;01mraise\u001b[39;00m TranspilerError(ex.message) \u001b[38;5;28;01mfrom\u001b[39;00m\u001b[38;5;250m \u001b[39m\u001b[34;01mex\u001b[39;00m\n",
      "\u001b[36mFile \u001b[39m\u001b[32m~/Desktop/woq/venv_woq/lib/python3.12/site-packages/qiskit/transpiler/passmanager.py:225\u001b[39m, in \u001b[36mPassManager.run\u001b[39m\u001b[34m(self, circuits, output_name, callback, num_processes)\u001b[39m\n\u001b[32m    222\u001b[39m \u001b[38;5;28;01mif\u001b[39;00m callback \u001b[38;5;129;01mis\u001b[39;00m \u001b[38;5;129;01mnot\u001b[39;00m \u001b[38;5;28;01mNone\u001b[39;00m:\n\u001b[32m    223\u001b[39m     callback = _legacy_style_callback(callback)\n\u001b[32m--> \u001b[39m\u001b[32m225\u001b[39m \u001b[38;5;28;01mreturn\u001b[39;00m \u001b[38;5;28;43msuper\u001b[39;49m\u001b[43m(\u001b[49m\u001b[43m)\u001b[49m\u001b[43m.\u001b[49m\u001b[43mrun\u001b[49m\u001b[43m(\u001b[49m\n\u001b[32m    226\u001b[39m \u001b[43m    \u001b[49m\u001b[43min_programs\u001b[49m\u001b[43m=\u001b[49m\u001b[43mcircuits\u001b[49m\u001b[43m,\u001b[49m\n\u001b[32m    227\u001b[39m \u001b[43m    \u001b[49m\u001b[43mcallback\u001b[49m\u001b[43m=\u001b[49m\u001b[43mcallback\u001b[49m\u001b[43m,\u001b[49m\n\u001b[32m    228\u001b[39m \u001b[43m    \u001b[49m\u001b[43moutput_name\u001b[49m\u001b[43m=\u001b[49m\u001b[43moutput_name\u001b[49m\u001b[43m,\u001b[49m\n\u001b[32m    229\u001b[39m \u001b[43m    \u001b[49m\u001b[43mnum_processes\u001b[49m\u001b[43m=\u001b[49m\u001b[43mnum_processes\u001b[49m\u001b[43m,\u001b[49m\n\u001b[32m    230\u001b[39m \u001b[43m\u001b[49m\u001b[43m)\u001b[49m\n",
      "\u001b[36mFile \u001b[39m\u001b[32m~/Desktop/woq/venv_woq/lib/python3.12/site-packages/qiskit/passmanager/passmanager.py:232\u001b[39m, in \u001b[36mBasePassManager.run\u001b[39m\u001b[34m(self, in_programs, callback, num_processes, **kwargs)\u001b[39m\n\u001b[32m    228\u001b[39m \u001b[38;5;66;03m# If we're not going to run in parallel, we want to avoid spending time `dill` serialising\u001b[39;00m\n\u001b[32m    229\u001b[39m \u001b[38;5;66;03m# ourselves, since that can be quite expensive.\u001b[39;00m\n\u001b[32m    230\u001b[39m \u001b[38;5;28;01mif\u001b[39;00m \u001b[38;5;28mlen\u001b[39m(in_programs) == \u001b[32m1\u001b[39m \u001b[38;5;129;01mor\u001b[39;00m \u001b[38;5;129;01mnot\u001b[39;00m should_run_in_parallel(num_processes):\n\u001b[32m    231\u001b[39m     out = [\n\u001b[32m--> \u001b[39m\u001b[32m232\u001b[39m         \u001b[43m_run_workflow\u001b[49m\u001b[43m(\u001b[49m\u001b[43mprogram\u001b[49m\u001b[43m=\u001b[49m\u001b[43mprogram\u001b[49m\u001b[43m,\u001b[49m\u001b[43m \u001b[49m\u001b[43mpass_manager\u001b[49m\u001b[43m=\u001b[49m\u001b[38;5;28;43mself\u001b[39;49m\u001b[43m,\u001b[49m\u001b[43m \u001b[49m\u001b[43mcallback\u001b[49m\u001b[43m=\u001b[49m\u001b[43mcallback\u001b[49m\u001b[43m,\u001b[49m\u001b[43m \u001b[49m\u001b[43m*\u001b[49m\u001b[43m*\u001b[49m\u001b[43mkwargs\u001b[49m\u001b[43m)\u001b[49m\n\u001b[32m    233\u001b[39m         \u001b[38;5;28;01mfor\u001b[39;00m program \u001b[38;5;129;01min\u001b[39;00m in_programs\n\u001b[32m    234\u001b[39m     ]\n\u001b[32m    235\u001b[39m     \u001b[38;5;28;01mif\u001b[39;00m \u001b[38;5;28mlen\u001b[39m(in_programs) == \u001b[32m1\u001b[39m \u001b[38;5;129;01mand\u001b[39;00m \u001b[38;5;129;01mnot\u001b[39;00m is_list:\n\u001b[32m    236\u001b[39m         \u001b[38;5;28;01mreturn\u001b[39;00m out[\u001b[32m0\u001b[39m]\n",
      "\u001b[36mFile \u001b[39m\u001b[32m~/Desktop/woq/venv_woq/lib/python3.12/site-packages/qiskit/passmanager/passmanager.py:292\u001b[39m, in \u001b[36m_run_workflow\u001b[39m\u001b[34m(program, pass_manager, **kwargs)\u001b[39m\n\u001b[32m    286\u001b[39m initial_status = WorkflowStatus()\n\u001b[32m    288\u001b[39m passmanager_ir = pass_manager._passmanager_frontend(\n\u001b[32m    289\u001b[39m     input_program=program,\n\u001b[32m    290\u001b[39m     **kwargs,\n\u001b[32m    291\u001b[39m )\n\u001b[32m--> \u001b[39m\u001b[32m292\u001b[39m passmanager_ir, final_state = \u001b[43mflow_controller\u001b[49m\u001b[43m.\u001b[49m\u001b[43mexecute\u001b[49m\u001b[43m(\u001b[49m\n\u001b[32m    293\u001b[39m \u001b[43m    \u001b[49m\u001b[43mpassmanager_ir\u001b[49m\u001b[43m=\u001b[49m\u001b[43mpassmanager_ir\u001b[49m\u001b[43m,\u001b[49m\n\u001b[32m    294\u001b[39m \u001b[43m    \u001b[49m\u001b[43mstate\u001b[49m\u001b[43m=\u001b[49m\u001b[43mPassManagerState\u001b[49m\u001b[43m(\u001b[49m\n\u001b[32m    295\u001b[39m \u001b[43m        \u001b[49m\u001b[43mworkflow_status\u001b[49m\u001b[43m=\u001b[49m\u001b[43minitial_status\u001b[49m\u001b[43m,\u001b[49m\n\u001b[32m    296\u001b[39m \u001b[43m        \u001b[49m\u001b[43mproperty_set\u001b[49m\u001b[43m=\u001b[49m\u001b[43mPropertySet\u001b[49m\u001b[43m(\u001b[49m\u001b[43m)\u001b[49m\u001b[43m,\u001b[49m\n\u001b[32m    297\u001b[39m \u001b[43m    \u001b[49m\u001b[43m)\u001b[49m\u001b[43m,\u001b[49m\n\u001b[32m    298\u001b[39m \u001b[43m    \u001b[49m\u001b[43mcallback\u001b[49m\u001b[43m=\u001b[49m\u001b[43mkwargs\u001b[49m\u001b[43m.\u001b[49m\u001b[43mget\u001b[49m\u001b[43m(\u001b[49m\u001b[33;43m\"\u001b[39;49m\u001b[33;43mcallback\u001b[39;49m\u001b[33;43m\"\u001b[39;49m\u001b[43m,\u001b[49m\u001b[43m \u001b[49m\u001b[38;5;28;43;01mNone\u001b[39;49;00m\u001b[43m)\u001b[49m\u001b[43m,\u001b[49m\n\u001b[32m    299\u001b[39m \u001b[43m\u001b[49m\u001b[43m)\u001b[49m\n\u001b[32m    300\u001b[39m \u001b[38;5;66;03m# The `property_set` has historically been returned as a mutable attribute on `PassManager`\u001b[39;00m\n\u001b[32m    301\u001b[39m \u001b[38;5;66;03m# This makes us non-reentrant (though `PassManager` would be dependent on its internal tasks to\u001b[39;00m\n\u001b[32m    302\u001b[39m \u001b[38;5;66;03m# be re-entrant if that was required), but is consistent with previous interfaces.  We're still\u001b[39;00m\n\u001b[32m    303\u001b[39m \u001b[38;5;66;03m# safe to be called in a serial loop, again assuming internal tasks are re-runnable.  The\u001b[39;00m\n\u001b[32m    304\u001b[39m \u001b[38;5;66;03m# conversion to the backend language is also allowed to use the property set, so it must be set\u001b[39;00m\n\u001b[32m    305\u001b[39m \u001b[38;5;66;03m# before calling it.\u001b[39;00m\n\u001b[32m    306\u001b[39m pass_manager.property_set = final_state.property_set\n",
      "\u001b[36mFile \u001b[39m\u001b[32m~/Desktop/woq/venv_woq/lib/python3.12/site-packages/qiskit/passmanager/base_tasks.py:218\u001b[39m, in \u001b[36mBaseController.execute\u001b[39m\u001b[34m(self, passmanager_ir, state, callback)\u001b[39m\n\u001b[32m    216\u001b[39m     \u001b[38;5;28;01mreturn\u001b[39;00m passmanager_ir, state\n\u001b[32m    217\u001b[39m \u001b[38;5;28;01mwhile\u001b[39;00m \u001b[38;5;28;01mTrue\u001b[39;00m:\n\u001b[32m--> \u001b[39m\u001b[32m218\u001b[39m     passmanager_ir, state = \u001b[43mnext_task\u001b[49m\u001b[43m.\u001b[49m\u001b[43mexecute\u001b[49m\u001b[43m(\u001b[49m\n\u001b[32m    219\u001b[39m \u001b[43m        \u001b[49m\u001b[43mpassmanager_ir\u001b[49m\u001b[43m=\u001b[49m\u001b[43mpassmanager_ir\u001b[49m\u001b[43m,\u001b[49m\n\u001b[32m    220\u001b[39m \u001b[43m        \u001b[49m\u001b[43mstate\u001b[49m\u001b[43m=\u001b[49m\u001b[43mstate\u001b[49m\u001b[43m,\u001b[49m\n\u001b[32m    221\u001b[39m \u001b[43m        \u001b[49m\u001b[43mcallback\u001b[49m\u001b[43m=\u001b[49m\u001b[43mcallback\u001b[49m\u001b[43m,\u001b[49m\n\u001b[32m    222\u001b[39m \u001b[43m    \u001b[49m\u001b[43m)\u001b[49m\n\u001b[32m    223\u001b[39m     \u001b[38;5;28;01mtry\u001b[39;00m:\n\u001b[32m    224\u001b[39m         \u001b[38;5;66;03m# Sending the object through the generator implies the custom controllers\u001b[39;00m\n\u001b[32m    225\u001b[39m         \u001b[38;5;66;03m# can always rely on the latest data to choose the next task to run.\u001b[39;00m\n\u001b[32m    226\u001b[39m         next_task = task_generator.send(state)\n",
      "\u001b[36mFile \u001b[39m\u001b[32m~/Desktop/woq/venv_woq/lib/python3.12/site-packages/qiskit/passmanager/base_tasks.py:218\u001b[39m, in \u001b[36mBaseController.execute\u001b[39m\u001b[34m(self, passmanager_ir, state, callback)\u001b[39m\n\u001b[32m    216\u001b[39m     \u001b[38;5;28;01mreturn\u001b[39;00m passmanager_ir, state\n\u001b[32m    217\u001b[39m \u001b[38;5;28;01mwhile\u001b[39;00m \u001b[38;5;28;01mTrue\u001b[39;00m:\n\u001b[32m--> \u001b[39m\u001b[32m218\u001b[39m     passmanager_ir, state = \u001b[43mnext_task\u001b[49m\u001b[43m.\u001b[49m\u001b[43mexecute\u001b[49m\u001b[43m(\u001b[49m\n\u001b[32m    219\u001b[39m \u001b[43m        \u001b[49m\u001b[43mpassmanager_ir\u001b[49m\u001b[43m=\u001b[49m\u001b[43mpassmanager_ir\u001b[49m\u001b[43m,\u001b[49m\n\u001b[32m    220\u001b[39m \u001b[43m        \u001b[49m\u001b[43mstate\u001b[49m\u001b[43m=\u001b[49m\u001b[43mstate\u001b[49m\u001b[43m,\u001b[49m\n\u001b[32m    221\u001b[39m \u001b[43m        \u001b[49m\u001b[43mcallback\u001b[49m\u001b[43m=\u001b[49m\u001b[43mcallback\u001b[49m\u001b[43m,\u001b[49m\n\u001b[32m    222\u001b[39m \u001b[43m    \u001b[49m\u001b[43m)\u001b[49m\n\u001b[32m    223\u001b[39m     \u001b[38;5;28;01mtry\u001b[39;00m:\n\u001b[32m    224\u001b[39m         \u001b[38;5;66;03m# Sending the object through the generator implies the custom controllers\u001b[39;00m\n\u001b[32m    225\u001b[39m         \u001b[38;5;66;03m# can always rely on the latest data to choose the next task to run.\u001b[39;00m\n\u001b[32m    226\u001b[39m         next_task = task_generator.send(state)\n",
      "\u001b[36mFile \u001b[39m\u001b[32m~/Desktop/woq/venv_woq/lib/python3.12/site-packages/qiskit/transpiler/basepasses.py:195\u001b[39m, in \u001b[36mTransformationPass.execute\u001b[39m\u001b[34m(self, passmanager_ir, state, callback)\u001b[39m\n\u001b[32m    189\u001b[39m \u001b[38;5;28;01mdef\u001b[39;00m\u001b[38;5;250m \u001b[39m\u001b[34mexecute\u001b[39m(\n\u001b[32m    190\u001b[39m     \u001b[38;5;28mself\u001b[39m,\n\u001b[32m    191\u001b[39m     passmanager_ir: PassManagerIR,\n\u001b[32m    192\u001b[39m     state: PassManagerState,\n\u001b[32m    193\u001b[39m     callback: Callable = \u001b[38;5;28;01mNone\u001b[39;00m,\n\u001b[32m    194\u001b[39m ) -> \u001b[38;5;28mtuple\u001b[39m[PassManagerIR, PassManagerState]:\n\u001b[32m--> \u001b[39m\u001b[32m195\u001b[39m     new_dag, state = \u001b[38;5;28;43msuper\u001b[39;49m\u001b[43m(\u001b[49m\u001b[43m)\u001b[49m\u001b[43m.\u001b[49m\u001b[43mexecute\u001b[49m\u001b[43m(\u001b[49m\n\u001b[32m    196\u001b[39m \u001b[43m        \u001b[49m\u001b[43mpassmanager_ir\u001b[49m\u001b[43m=\u001b[49m\u001b[43mpassmanager_ir\u001b[49m\u001b[43m,\u001b[49m\n\u001b[32m    197\u001b[39m \u001b[43m        \u001b[49m\u001b[43mstate\u001b[49m\u001b[43m=\u001b[49m\u001b[43mstate\u001b[49m\u001b[43m,\u001b[49m\n\u001b[32m    198\u001b[39m \u001b[43m        \u001b[49m\u001b[43mcallback\u001b[49m\u001b[43m=\u001b[49m\u001b[43mcallback\u001b[49m\u001b[43m,\u001b[49m\n\u001b[32m    199\u001b[39m \u001b[43m    \u001b[49m\u001b[43m)\u001b[49m\n\u001b[32m    201\u001b[39m     \u001b[38;5;28;01mif\u001b[39;00m state.workflow_status.previous_run == RunState.SUCCESS:\n\u001b[32m    202\u001b[39m         \u001b[38;5;28;01mif\u001b[39;00m \u001b[38;5;28misinstance\u001b[39m(new_dag, DAGCircuit):\n\u001b[32m    203\u001b[39m             \u001b[38;5;66;03m# Copy calibration data from the original program\u001b[39;00m\n",
      "\u001b[36mFile \u001b[39m\u001b[32m~/Desktop/woq/venv_woq/lib/python3.12/site-packages/qiskit/passmanager/base_tasks.py:98\u001b[39m, in \u001b[36mGenericPass.execute\u001b[39m\u001b[34m(self, passmanager_ir, state, callback)\u001b[39m\n\u001b[32m     96\u001b[39m \u001b[38;5;28;01mtry\u001b[39;00m:\n\u001b[32m     97\u001b[39m     \u001b[38;5;28;01mif\u001b[39;00m \u001b[38;5;28mself\u001b[39m \u001b[38;5;129;01mnot\u001b[39;00m \u001b[38;5;129;01min\u001b[39;00m state.workflow_status.completed_passes:\n\u001b[32m---> \u001b[39m\u001b[32m98\u001b[39m         ret = \u001b[38;5;28;43mself\u001b[39;49m\u001b[43m.\u001b[49m\u001b[43mrun\u001b[49m\u001b[43m(\u001b[49m\u001b[43mpassmanager_ir\u001b[49m\u001b[43m)\u001b[49m\n\u001b[32m     99\u001b[39m         run_state = RunState.SUCCESS\n\u001b[32m    100\u001b[39m     \u001b[38;5;28;01melse\u001b[39;00m:\n",
      "\u001b[36mFile \u001b[39m\u001b[32m~/Desktop/woq/venv_woq/lib/python3.12/site-packages/qiskit/transpiler/passes/optimization/commutative_cancellation.py:162\u001b[39m, in \u001b[36mCommutativeCancellation.run\u001b[39m\u001b[34m(self, dag)\u001b[39m\n\u001b[32m    160\u001b[39m     \u001b[38;5;66;03m# Compose gates\u001b[39;00m\n\u001b[32m    161\u001b[39m     total_angle = current_angle + total_angle\n\u001b[32m--> \u001b[39m\u001b[32m162\u001b[39m     \u001b[38;5;28;01mif\u001b[39;00m \u001b[43mcurrent_node\u001b[49m\u001b[43m.\u001b[49m\u001b[43mop\u001b[49m\u001b[43m.\u001b[49m\u001b[43mdefinition\u001b[49m:\n\u001b[32m    163\u001b[39m         total_phase += current_node.op.definition.global_phase\n\u001b[32m    165\u001b[39m \u001b[38;5;66;03m# Replace the data of the first node in the run\u001b[39;00m\n",
      "\u001b[36mFile \u001b[39m\u001b[32m~/Desktop/woq/venv_woq/lib/python3.12/site-packages/qiskit/circuit/instruction.py:308\u001b[39m, in \u001b[36mInstruction.definition\u001b[39m\u001b[34m(self)\u001b[39m\n\u001b[32m    306\u001b[39m \u001b[38;5;250m\u001b[39m\u001b[33;03m\"\"\"Return definition in terms of other basic gates.\"\"\"\u001b[39;00m\n\u001b[32m    307\u001b[39m \u001b[38;5;28;01mif\u001b[39;00m \u001b[38;5;28mself\u001b[39m._definition \u001b[38;5;129;01mis\u001b[39;00m \u001b[38;5;28;01mNone\u001b[39;00m:\n\u001b[32m--> \u001b[39m\u001b[32m308\u001b[39m     \u001b[38;5;28;43mself\u001b[39;49m\u001b[43m.\u001b[49m\u001b[43m_define\u001b[49m\u001b[43m(\u001b[49m\u001b[43m)\u001b[49m\n\u001b[32m    309\u001b[39m \u001b[38;5;28;01mreturn\u001b[39;00m \u001b[38;5;28mself\u001b[39m._definition\n",
      "\u001b[36mFile \u001b[39m\u001b[32m~/Desktop/woq/venv_woq/lib/python3.12/site-packages/qiskit/circuit/library/standard_gates/rz.py:76\u001b[39m, in \u001b[36mRZGate._define\u001b[39m\u001b[34m(self)\u001b[39m\n\u001b[32m     73\u001b[39m \u001b[38;5;28;01mfrom\u001b[39;00m\u001b[38;5;250m \u001b[39m\u001b[34;01mqiskit\u001b[39;00m\u001b[34;01m.\u001b[39;00m\u001b[34;01mcircuit\u001b[39;00m\u001b[34;01m.\u001b[39;00m\u001b[34;01mquantumcircuit\u001b[39;00m\u001b[38;5;250m \u001b[39m\u001b[38;5;28;01mimport\u001b[39;00m QuantumCircuit\n\u001b[32m     74\u001b[39m \u001b[38;5;28;01mfrom\u001b[39;00m\u001b[38;5;250m \u001b[39m\u001b[34;01m.\u001b[39;00m\u001b[34;01mu1\u001b[39;00m\u001b[38;5;250m \u001b[39m\u001b[38;5;28;01mimport\u001b[39;00m U1Gate\n\u001b[32m---> \u001b[39m\u001b[32m76\u001b[39m q = \u001b[43mQuantumRegister\u001b[49m\u001b[43m(\u001b[49m\u001b[32;43m1\u001b[39;49m\u001b[43m,\u001b[49m\u001b[43m \u001b[49m\u001b[33;43m\"\u001b[39;49m\u001b[33;43mq\u001b[39;49m\u001b[33;43m\"\u001b[39;49m\u001b[43m)\u001b[49m\n\u001b[32m     77\u001b[39m theta = \u001b[38;5;28mself\u001b[39m.params[\u001b[32m0\u001b[39m]\n\u001b[32m     78\u001b[39m qc = QuantumCircuit(q, name=\u001b[38;5;28mself\u001b[39m.name, global_phase=-theta / \u001b[32m2\u001b[39m)\n",
      "\u001b[36mFile \u001b[39m\u001b[32m~/Desktop/woq/venv_woq/lib/python3.12/site-packages/qiskit/circuit/register.py:43\u001b[39m, in \u001b[36mRegister.__init__\u001b[39m\u001b[34m(self, size, name, bits)\u001b[39m\n\u001b[32m     40\u001b[39m prefix = \u001b[33m\"\u001b[39m\u001b[33mreg\u001b[39m\u001b[33m\"\u001b[39m\n\u001b[32m     41\u001b[39m bit_type = \u001b[38;5;28;01mNone\u001b[39;00m\n\u001b[32m---> \u001b[39m\u001b[32m43\u001b[39m \u001b[38;5;28;01mdef\u001b[39;00m\u001b[38;5;250m \u001b[39m\u001b[34m__init__\u001b[39m(\u001b[38;5;28mself\u001b[39m, size: \u001b[38;5;28mint\u001b[39m | \u001b[38;5;28;01mNone\u001b[39;00m = \u001b[38;5;28;01mNone\u001b[39;00m, name: \u001b[38;5;28mstr\u001b[39m | \u001b[38;5;28;01mNone\u001b[39;00m = \u001b[38;5;28;01mNone\u001b[39;00m, bits=\u001b[38;5;28;01mNone\u001b[39;00m):\n\u001b[32m     44\u001b[39m \u001b[38;5;250m    \u001b[39m\u001b[33;03m\"\"\"Create a new generic register.\u001b[39;00m\n\u001b[32m     45\u001b[39m \n\u001b[32m     46\u001b[39m \u001b[33;03m    Either the ``size`` or the ``bits`` argument must be provided. If\u001b[39;00m\n\u001b[32m   (...)\u001b[39m\u001b[32m     64\u001b[39m \u001b[33;03m        CircuitError: if ``bits`` contained bits of an incorrect type.\u001b[39;00m\n\u001b[32m     65\u001b[39m \u001b[33;03m    \"\"\"\u001b[39;00m\n\u001b[32m     67\u001b[39m     \u001b[38;5;28;01mif\u001b[39;00m (size, bits) == (\u001b[38;5;28;01mNone\u001b[39;00m, \u001b[38;5;28;01mNone\u001b[39;00m) \u001b[38;5;129;01mor\u001b[39;00m (size \u001b[38;5;129;01mis\u001b[39;00m \u001b[38;5;129;01mnot\u001b[39;00m \u001b[38;5;28;01mNone\u001b[39;00m \u001b[38;5;129;01mand\u001b[39;00m bits \u001b[38;5;129;01mis\u001b[39;00m \u001b[38;5;129;01mnot\u001b[39;00m \u001b[38;5;28;01mNone\u001b[39;00m):\n",
      "\u001b[31mKeyboardInterrupt\u001b[39m: "
     ]
    }
   ],
   "source": [
    "obtain_resources(problem_h2o)"
   ]
  },
  {
   "cell_type": "code",
   "execution_count": 163,
   "id": "33b28168-73d5-4880-b823-bf7a07ca92d0",
   "metadata": {},
   "outputs": [
    {
     "name": "stdout",
     "output_type": "stream",
     "text": [
      "Generating ansatz and transpiled ansatz for: JW\n",
      "\tANSATZ: Count-Ops: OrderedDict([('cx', 8064), ('h', 4992), ('sdg', 1248), ('s', 1248), ('rz', 640), ('u', 4)]) size: 16196 depth = 10315\n",
      "\tANSATZ transpilation took: 50.24\n",
      "\tANSATZ transpiled: Count-Ops: OrderedDict([('u3', 40623), ('u', 9643), ('cx', 7134)]) size: 57400 depth = 43343\n",
      "\n",
      "\n",
      "Generating ansatz and transpiled ansatz for: Bravi-Kitaev\n",
      "\tANSATZ: Count-Ops: OrderedDict([('cx', 8680), ('h', 7440), ('sdg', 1670), ('s', 1670), ('rz', 640), ('u', 2)]) size: 20102 depth = 11043\n",
      "\tANSATZ transpilation took: 33.56\n",
      "\tANSATZ transpiled: Count-Ops: OrderedDict([('u3', 75662), ('u', 12922), ('cx', 10828)]) size: 99412 depth = 66261\n",
      "\n",
      "\n",
      "Generating ansatz and transpiled ansatz for: Majorana\n",
      "Num qubits:  12\n",
      "\tANSATZ: Count-Ops: OrderedDict([('cx', 6946), ('h', 5782), ('sdg', 1348), ('s', 1348), ('rz', 632), ('ry', 4), ('u', 2), ('rzx', 2), ('rxx', 1), ('rx', 1)]) size: 16066 depth = 8411\n",
      "\tANSATZ transpilation took: 32.85\n",
      "\tANSATZ transpiled: Count-Ops: OrderedDict([('u3', 93133), ('u', 14368), ('cx', 12527)]) size: 120028 depth = 65651\n",
      "\n",
      "\n"
     ]
    }
   ],
   "source": [
    "obtain_resources(problem_lih)"
   ]
  },
  {
   "cell_type": "code",
   "execution_count": null,
   "id": "1a197566-d9a8-4d76-8843-ef42d8c436c6",
   "metadata": {},
   "outputs": [],
   "source": []
  }
 ],
 "metadata": {
  "kernelspec": {
   "display_name": "Python 3 (ipykernel)",
   "language": "python",
   "name": "python3"
  },
  "language_info": {
   "codemirror_mode": {
    "name": "ipython",
    "version": 3
   },
   "file_extension": ".py",
   "mimetype": "text/x-python",
   "name": "python",
   "nbconvert_exporter": "python",
   "pygments_lexer": "ipython3",
   "version": "3.12.0"
  }
 },
 "nbformat": 4,
 "nbformat_minor": 5
}
